{
 "cells": [
  {
   "cell_type": "markdown",
   "id": "d7ec3990",
   "metadata": {},
   "source": [
    "# Preprocessing Data"
   ]
  },
  {
   "cell_type": "code",
   "execution_count": 108,
   "id": "88794116",
   "metadata": {},
   "outputs": [],
   "source": [
    "#mengimpor library\n",
    "import matplotlib as pyplot\n",
    "import numpy as np\n",
    "import pandas as pd"
   ]
  },
  {
   "cell_type": "code",
   "execution_count": 109,
   "id": "446e1fca",
   "metadata": {},
   "outputs": [],
   "source": [
    "#mengimpor data\n",
    "df = pd.read_csv('weatherAUS.csv')"
   ]
  },
  {
   "cell_type": "code",
   "execution_count": 110,
   "id": "42e64881",
   "metadata": {},
   "outputs": [
    {
     "data": {
      "text/html": [
       "<div>\n",
       "<style scoped>\n",
       "    .dataframe tbody tr th:only-of-type {\n",
       "        vertical-align: middle;\n",
       "    }\n",
       "\n",
       "    .dataframe tbody tr th {\n",
       "        vertical-align: top;\n",
       "    }\n",
       "\n",
       "    .dataframe thead th {\n",
       "        text-align: right;\n",
       "    }\n",
       "</style>\n",
       "<table border=\"1\" class=\"dataframe\">\n",
       "  <thead>\n",
       "    <tr style=\"text-align: right;\">\n",
       "      <th></th>\n",
       "      <th>Date</th>\n",
       "      <th>Location</th>\n",
       "      <th>MinTemp</th>\n",
       "      <th>MaxTemp</th>\n",
       "      <th>Rainfall</th>\n",
       "      <th>Evaporation</th>\n",
       "      <th>Sunshine</th>\n",
       "      <th>WindGustDir</th>\n",
       "      <th>WindGustSpeed</th>\n",
       "      <th>WindDir9am</th>\n",
       "      <th>...</th>\n",
       "      <th>Humidity9am</th>\n",
       "      <th>Humidity3pm</th>\n",
       "      <th>Pressure9am</th>\n",
       "      <th>Pressure3pm</th>\n",
       "      <th>Cloud9am</th>\n",
       "      <th>Cloud3pm</th>\n",
       "      <th>Temp9am</th>\n",
       "      <th>Temp3pm</th>\n",
       "      <th>RainToday</th>\n",
       "      <th>RainTomorrow</th>\n",
       "    </tr>\n",
       "  </thead>\n",
       "  <tbody>\n",
       "    <tr>\n",
       "      <th>0</th>\n",
       "      <td>2008-12-01</td>\n",
       "      <td>Albury</td>\n",
       "      <td>13.4</td>\n",
       "      <td>22.9</td>\n",
       "      <td>0.6</td>\n",
       "      <td>NaN</td>\n",
       "      <td>NaN</td>\n",
       "      <td>W</td>\n",
       "      <td>44.0</td>\n",
       "      <td>W</td>\n",
       "      <td>...</td>\n",
       "      <td>71.0</td>\n",
       "      <td>22.0</td>\n",
       "      <td>1007.7</td>\n",
       "      <td>1007.1</td>\n",
       "      <td>8.0</td>\n",
       "      <td>NaN</td>\n",
       "      <td>16.9</td>\n",
       "      <td>21.8</td>\n",
       "      <td>No</td>\n",
       "      <td>No</td>\n",
       "    </tr>\n",
       "    <tr>\n",
       "      <th>1</th>\n",
       "      <td>2008-12-02</td>\n",
       "      <td>Albury</td>\n",
       "      <td>7.4</td>\n",
       "      <td>25.1</td>\n",
       "      <td>0.0</td>\n",
       "      <td>NaN</td>\n",
       "      <td>NaN</td>\n",
       "      <td>WNW</td>\n",
       "      <td>44.0</td>\n",
       "      <td>NNW</td>\n",
       "      <td>...</td>\n",
       "      <td>44.0</td>\n",
       "      <td>25.0</td>\n",
       "      <td>1010.6</td>\n",
       "      <td>1007.8</td>\n",
       "      <td>NaN</td>\n",
       "      <td>NaN</td>\n",
       "      <td>17.2</td>\n",
       "      <td>24.3</td>\n",
       "      <td>No</td>\n",
       "      <td>No</td>\n",
       "    </tr>\n",
       "    <tr>\n",
       "      <th>2</th>\n",
       "      <td>2008-12-03</td>\n",
       "      <td>Albury</td>\n",
       "      <td>12.9</td>\n",
       "      <td>25.7</td>\n",
       "      <td>0.0</td>\n",
       "      <td>NaN</td>\n",
       "      <td>NaN</td>\n",
       "      <td>WSW</td>\n",
       "      <td>46.0</td>\n",
       "      <td>W</td>\n",
       "      <td>...</td>\n",
       "      <td>38.0</td>\n",
       "      <td>30.0</td>\n",
       "      <td>1007.6</td>\n",
       "      <td>1008.7</td>\n",
       "      <td>NaN</td>\n",
       "      <td>2.0</td>\n",
       "      <td>21.0</td>\n",
       "      <td>23.2</td>\n",
       "      <td>No</td>\n",
       "      <td>No</td>\n",
       "    </tr>\n",
       "    <tr>\n",
       "      <th>3</th>\n",
       "      <td>2008-12-04</td>\n",
       "      <td>Albury</td>\n",
       "      <td>9.2</td>\n",
       "      <td>28.0</td>\n",
       "      <td>0.0</td>\n",
       "      <td>NaN</td>\n",
       "      <td>NaN</td>\n",
       "      <td>NE</td>\n",
       "      <td>24.0</td>\n",
       "      <td>SE</td>\n",
       "      <td>...</td>\n",
       "      <td>45.0</td>\n",
       "      <td>16.0</td>\n",
       "      <td>1017.6</td>\n",
       "      <td>1012.8</td>\n",
       "      <td>NaN</td>\n",
       "      <td>NaN</td>\n",
       "      <td>18.1</td>\n",
       "      <td>26.5</td>\n",
       "      <td>No</td>\n",
       "      <td>No</td>\n",
       "    </tr>\n",
       "    <tr>\n",
       "      <th>4</th>\n",
       "      <td>2008-12-05</td>\n",
       "      <td>Albury</td>\n",
       "      <td>17.5</td>\n",
       "      <td>32.3</td>\n",
       "      <td>1.0</td>\n",
       "      <td>NaN</td>\n",
       "      <td>NaN</td>\n",
       "      <td>W</td>\n",
       "      <td>41.0</td>\n",
       "      <td>ENE</td>\n",
       "      <td>...</td>\n",
       "      <td>82.0</td>\n",
       "      <td>33.0</td>\n",
       "      <td>1010.8</td>\n",
       "      <td>1006.0</td>\n",
       "      <td>7.0</td>\n",
       "      <td>8.0</td>\n",
       "      <td>17.8</td>\n",
       "      <td>29.7</td>\n",
       "      <td>No</td>\n",
       "      <td>No</td>\n",
       "    </tr>\n",
       "  </tbody>\n",
       "</table>\n",
       "<p>5 rows × 23 columns</p>\n",
       "</div>"
      ],
      "text/plain": [
       "         Date Location  MinTemp  MaxTemp  Rainfall  Evaporation  Sunshine  \\\n",
       "0  2008-12-01   Albury     13.4     22.9       0.6          NaN       NaN   \n",
       "1  2008-12-02   Albury      7.4     25.1       0.0          NaN       NaN   \n",
       "2  2008-12-03   Albury     12.9     25.7       0.0          NaN       NaN   \n",
       "3  2008-12-04   Albury      9.2     28.0       0.0          NaN       NaN   \n",
       "4  2008-12-05   Albury     17.5     32.3       1.0          NaN       NaN   \n",
       "\n",
       "  WindGustDir  WindGustSpeed WindDir9am  ... Humidity9am  Humidity3pm  \\\n",
       "0           W           44.0          W  ...        71.0         22.0   \n",
       "1         WNW           44.0        NNW  ...        44.0         25.0   \n",
       "2         WSW           46.0          W  ...        38.0         30.0   \n",
       "3          NE           24.0         SE  ...        45.0         16.0   \n",
       "4           W           41.0        ENE  ...        82.0         33.0   \n",
       "\n",
       "   Pressure9am  Pressure3pm  Cloud9am  Cloud3pm  Temp9am  Temp3pm  RainToday  \\\n",
       "0       1007.7       1007.1       8.0       NaN     16.9     21.8         No   \n",
       "1       1010.6       1007.8       NaN       NaN     17.2     24.3         No   \n",
       "2       1007.6       1008.7       NaN       2.0     21.0     23.2         No   \n",
       "3       1017.6       1012.8       NaN       NaN     18.1     26.5         No   \n",
       "4       1010.8       1006.0       7.0       8.0     17.8     29.7         No   \n",
       "\n",
       "   RainTomorrow  \n",
       "0            No  \n",
       "1            No  \n",
       "2            No  \n",
       "3            No  \n",
       "4            No  \n",
       "\n",
       "[5 rows x 23 columns]"
      ]
     },
     "execution_count": 110,
     "metadata": {},
     "output_type": "execute_result"
    }
   ],
   "source": [
    "#melihat 5 data teratas\n",
    "df.head()"
   ]
  },
  {
   "cell_type": "code",
   "execution_count": 111,
   "id": "8a406d63",
   "metadata": {},
   "outputs": [
    {
     "data": {
      "text/html": [
       "<div>\n",
       "<style scoped>\n",
       "    .dataframe tbody tr th:only-of-type {\n",
       "        vertical-align: middle;\n",
       "    }\n",
       "\n",
       "    .dataframe tbody tr th {\n",
       "        vertical-align: top;\n",
       "    }\n",
       "\n",
       "    .dataframe thead th {\n",
       "        text-align: right;\n",
       "    }\n",
       "</style>\n",
       "<table border=\"1\" class=\"dataframe\">\n",
       "  <thead>\n",
       "    <tr style=\"text-align: right;\">\n",
       "      <th></th>\n",
       "      <th>Date</th>\n",
       "      <th>Location</th>\n",
       "      <th>MinTemp</th>\n",
       "      <th>MaxTemp</th>\n",
       "      <th>Rainfall</th>\n",
       "      <th>Evaporation</th>\n",
       "      <th>Sunshine</th>\n",
       "      <th>WindGustDir</th>\n",
       "      <th>WindGustSpeed</th>\n",
       "      <th>WindDir9am</th>\n",
       "      <th>...</th>\n",
       "      <th>Humidity9am</th>\n",
       "      <th>Humidity3pm</th>\n",
       "      <th>Pressure9am</th>\n",
       "      <th>Pressure3pm</th>\n",
       "      <th>Cloud9am</th>\n",
       "      <th>Cloud3pm</th>\n",
       "      <th>Temp9am</th>\n",
       "      <th>Temp3pm</th>\n",
       "      <th>RainToday</th>\n",
       "      <th>RainTomorrow</th>\n",
       "    </tr>\n",
       "  </thead>\n",
       "  <tbody>\n",
       "    <tr>\n",
       "      <th>145455</th>\n",
       "      <td>2017-06-21</td>\n",
       "      <td>Uluru</td>\n",
       "      <td>2.8</td>\n",
       "      <td>23.4</td>\n",
       "      <td>0.0</td>\n",
       "      <td>NaN</td>\n",
       "      <td>NaN</td>\n",
       "      <td>E</td>\n",
       "      <td>31.0</td>\n",
       "      <td>SE</td>\n",
       "      <td>...</td>\n",
       "      <td>51.0</td>\n",
       "      <td>24.0</td>\n",
       "      <td>1024.6</td>\n",
       "      <td>1020.3</td>\n",
       "      <td>NaN</td>\n",
       "      <td>NaN</td>\n",
       "      <td>10.1</td>\n",
       "      <td>22.4</td>\n",
       "      <td>No</td>\n",
       "      <td>No</td>\n",
       "    </tr>\n",
       "    <tr>\n",
       "      <th>145456</th>\n",
       "      <td>2017-06-22</td>\n",
       "      <td>Uluru</td>\n",
       "      <td>3.6</td>\n",
       "      <td>25.3</td>\n",
       "      <td>0.0</td>\n",
       "      <td>NaN</td>\n",
       "      <td>NaN</td>\n",
       "      <td>NNW</td>\n",
       "      <td>22.0</td>\n",
       "      <td>SE</td>\n",
       "      <td>...</td>\n",
       "      <td>56.0</td>\n",
       "      <td>21.0</td>\n",
       "      <td>1023.5</td>\n",
       "      <td>1019.1</td>\n",
       "      <td>NaN</td>\n",
       "      <td>NaN</td>\n",
       "      <td>10.9</td>\n",
       "      <td>24.5</td>\n",
       "      <td>No</td>\n",
       "      <td>No</td>\n",
       "    </tr>\n",
       "    <tr>\n",
       "      <th>145457</th>\n",
       "      <td>2017-06-23</td>\n",
       "      <td>Uluru</td>\n",
       "      <td>5.4</td>\n",
       "      <td>26.9</td>\n",
       "      <td>0.0</td>\n",
       "      <td>NaN</td>\n",
       "      <td>NaN</td>\n",
       "      <td>N</td>\n",
       "      <td>37.0</td>\n",
       "      <td>SE</td>\n",
       "      <td>...</td>\n",
       "      <td>53.0</td>\n",
       "      <td>24.0</td>\n",
       "      <td>1021.0</td>\n",
       "      <td>1016.8</td>\n",
       "      <td>NaN</td>\n",
       "      <td>NaN</td>\n",
       "      <td>12.5</td>\n",
       "      <td>26.1</td>\n",
       "      <td>No</td>\n",
       "      <td>No</td>\n",
       "    </tr>\n",
       "    <tr>\n",
       "      <th>145458</th>\n",
       "      <td>2017-06-24</td>\n",
       "      <td>Uluru</td>\n",
       "      <td>7.8</td>\n",
       "      <td>27.0</td>\n",
       "      <td>0.0</td>\n",
       "      <td>NaN</td>\n",
       "      <td>NaN</td>\n",
       "      <td>SE</td>\n",
       "      <td>28.0</td>\n",
       "      <td>SSE</td>\n",
       "      <td>...</td>\n",
       "      <td>51.0</td>\n",
       "      <td>24.0</td>\n",
       "      <td>1019.4</td>\n",
       "      <td>1016.5</td>\n",
       "      <td>3.0</td>\n",
       "      <td>2.0</td>\n",
       "      <td>15.1</td>\n",
       "      <td>26.0</td>\n",
       "      <td>No</td>\n",
       "      <td>No</td>\n",
       "    </tr>\n",
       "    <tr>\n",
       "      <th>145459</th>\n",
       "      <td>2017-06-25</td>\n",
       "      <td>Uluru</td>\n",
       "      <td>14.9</td>\n",
       "      <td>NaN</td>\n",
       "      <td>0.0</td>\n",
       "      <td>NaN</td>\n",
       "      <td>NaN</td>\n",
       "      <td>NaN</td>\n",
       "      <td>NaN</td>\n",
       "      <td>ESE</td>\n",
       "      <td>...</td>\n",
       "      <td>62.0</td>\n",
       "      <td>36.0</td>\n",
       "      <td>1020.2</td>\n",
       "      <td>1017.9</td>\n",
       "      <td>8.0</td>\n",
       "      <td>8.0</td>\n",
       "      <td>15.0</td>\n",
       "      <td>20.9</td>\n",
       "      <td>No</td>\n",
       "      <td>NaN</td>\n",
       "    </tr>\n",
       "  </tbody>\n",
       "</table>\n",
       "<p>5 rows × 23 columns</p>\n",
       "</div>"
      ],
      "text/plain": [
       "              Date Location  MinTemp  MaxTemp  Rainfall  Evaporation  \\\n",
       "145455  2017-06-21    Uluru      2.8     23.4       0.0          NaN   \n",
       "145456  2017-06-22    Uluru      3.6     25.3       0.0          NaN   \n",
       "145457  2017-06-23    Uluru      5.4     26.9       0.0          NaN   \n",
       "145458  2017-06-24    Uluru      7.8     27.0       0.0          NaN   \n",
       "145459  2017-06-25    Uluru     14.9      NaN       0.0          NaN   \n",
       "\n",
       "        Sunshine WindGustDir  WindGustSpeed WindDir9am  ... Humidity9am  \\\n",
       "145455       NaN           E           31.0         SE  ...        51.0   \n",
       "145456       NaN         NNW           22.0         SE  ...        56.0   \n",
       "145457       NaN           N           37.0         SE  ...        53.0   \n",
       "145458       NaN          SE           28.0        SSE  ...        51.0   \n",
       "145459       NaN         NaN            NaN        ESE  ...        62.0   \n",
       "\n",
       "        Humidity3pm  Pressure9am  Pressure3pm  Cloud9am  Cloud3pm  Temp9am  \\\n",
       "145455         24.0       1024.6       1020.3       NaN       NaN     10.1   \n",
       "145456         21.0       1023.5       1019.1       NaN       NaN     10.9   \n",
       "145457         24.0       1021.0       1016.8       NaN       NaN     12.5   \n",
       "145458         24.0       1019.4       1016.5       3.0       2.0     15.1   \n",
       "145459         36.0       1020.2       1017.9       8.0       8.0     15.0   \n",
       "\n",
       "        Temp3pm  RainToday  RainTomorrow  \n",
       "145455     22.4         No            No  \n",
       "145456     24.5         No            No  \n",
       "145457     26.1         No            No  \n",
       "145458     26.0         No            No  \n",
       "145459     20.9         No           NaN  \n",
       "\n",
       "[5 rows x 23 columns]"
      ]
     },
     "execution_count": 111,
     "metadata": {},
     "output_type": "execute_result"
    }
   ],
   "source": [
    "#melihat 5 data terbawah\n",
    "df.tail()"
   ]
  },
  {
   "cell_type": "code",
   "execution_count": 112,
   "id": "d1a7839e",
   "metadata": {},
   "outputs": [
    {
     "data": {
      "text/plain": [
       "(145460, 23)"
      ]
     },
     "execution_count": 112,
     "metadata": {},
     "output_type": "execute_result"
    }
   ],
   "source": [
    "#melihat ukuran data\n",
    "df.shape"
   ]
  },
  {
   "cell_type": "code",
   "execution_count": 113,
   "id": "bc1c6dbd",
   "metadata": {},
   "outputs": [
    {
     "name": "stdout",
     "output_type": "stream",
     "text": [
      "<class 'pandas.core.frame.DataFrame'>\n",
      "RangeIndex: 145460 entries, 0 to 145459\n",
      "Data columns (total 23 columns):\n",
      " #   Column         Non-Null Count   Dtype  \n",
      "---  ------         --------------   -----  \n",
      " 0   Date           145460 non-null  object \n",
      " 1   Location       145460 non-null  object \n",
      " 2   MinTemp        143975 non-null  float64\n",
      " 3   MaxTemp        144199 non-null  float64\n",
      " 4   Rainfall       142199 non-null  float64\n",
      " 5   Evaporation    82670 non-null   float64\n",
      " 6   Sunshine       75625 non-null   float64\n",
      " 7   WindGustDir    135134 non-null  object \n",
      " 8   WindGustSpeed  135197 non-null  float64\n",
      " 9   WindDir9am     134894 non-null  object \n",
      " 10  WindDir3pm     141232 non-null  object \n",
      " 11  WindSpeed9am   143693 non-null  float64\n",
      " 12  WindSpeed3pm   142398 non-null  float64\n",
      " 13  Humidity9am    142806 non-null  float64\n",
      " 14  Humidity3pm    140953 non-null  float64\n",
      " 15  Pressure9am    130395 non-null  float64\n",
      " 16  Pressure3pm    130432 non-null  float64\n",
      " 17  Cloud9am       89572 non-null   float64\n",
      " 18  Cloud3pm       86102 non-null   float64\n",
      " 19  Temp9am        143693 non-null  float64\n",
      " 20  Temp3pm        141851 non-null  float64\n",
      " 21  RainToday      142199 non-null  object \n",
      " 22  RainTomorrow   142193 non-null  object \n",
      "dtypes: float64(16), object(7)\n",
      "memory usage: 25.5+ MB\n"
     ]
    }
   ],
   "source": [
    "#melihat tipe data\n",
    "df.info()"
   ]
  },
  {
   "cell_type": "code",
   "execution_count": 114,
   "id": "de9c4a57",
   "metadata": {},
   "outputs": [
    {
     "data": {
      "text/plain": [
       "Date                 0\n",
       "Location             0\n",
       "MinTemp           1485\n",
       "MaxTemp           1261\n",
       "Rainfall          3261\n",
       "Evaporation      62790\n",
       "Sunshine         69835\n",
       "WindGustDir      10326\n",
       "WindGustSpeed    10263\n",
       "WindDir9am       10566\n",
       "WindDir3pm        4228\n",
       "WindSpeed9am      1767\n",
       "WindSpeed3pm      3062\n",
       "Humidity9am       2654\n",
       "Humidity3pm       4507\n",
       "Pressure9am      15065\n",
       "Pressure3pm      15028\n",
       "Cloud9am         55888\n",
       "Cloud3pm         59358\n",
       "Temp9am           1767\n",
       "Temp3pm           3609\n",
       "RainToday         3261\n",
       "RainTomorrow      3267\n",
       "dtype: int64"
      ]
     },
     "execution_count": 114,
     "metadata": {},
     "output_type": "execute_result"
    }
   ],
   "source": [
    "#mencari missing values di tiap kolom\n",
    "df.isnull().sum()"
   ]
  },
  {
   "cell_type": "code",
   "execution_count": 115,
   "id": "adec3083",
   "metadata": {},
   "outputs": [],
   "source": [
    "#targetnya adalah RainToday dan RainTomorrow\n",
    "#tidak boleh ada missing values di kolom tersebut\n",
    "df.dropna(subset=['RainToday', 'RainTomorrow'], inplace=True)"
   ]
  },
  {
   "cell_type": "code",
   "execution_count": 116,
   "id": "8e424719",
   "metadata": {},
   "outputs": [
    {
     "data": {
      "text/plain": [
       "Date                 0\n",
       "Location             0\n",
       "MinTemp            468\n",
       "MaxTemp            307\n",
       "Rainfall             0\n",
       "Evaporation      59694\n",
       "Sunshine         66805\n",
       "WindGustDir       9163\n",
       "WindGustSpeed     9105\n",
       "WindDir9am        9660\n",
       "WindDir3pm        3670\n",
       "WindSpeed9am      1055\n",
       "WindSpeed3pm      2531\n",
       "Humidity9am       1517\n",
       "Humidity3pm       3501\n",
       "Pressure9am      13743\n",
       "Pressure3pm      13769\n",
       "Cloud9am         52625\n",
       "Cloud3pm         56094\n",
       "Temp9am            656\n",
       "Temp3pm           2624\n",
       "RainToday            0\n",
       "RainTomorrow         0\n",
       "dtype: int64"
      ]
     },
     "execution_count": 116,
     "metadata": {},
     "output_type": "execute_result"
    }
   ],
   "source": [
    "df.isnull().sum()"
   ]
  },
  {
   "cell_type": "code",
   "execution_count": 117,
   "id": "f5045f88",
   "metadata": {},
   "outputs": [],
   "source": [
    "#kolom data diubah tipenya menjadi datetime\n",
    "df['Date'] = pd.to_datetime(df['Date'])"
   ]
  },
  {
   "cell_type": "code",
   "execution_count": 118,
   "id": "514776e5",
   "metadata": {},
   "outputs": [
    {
     "name": "stdout",
     "output_type": "stream",
     "text": [
      "<class 'pandas.core.frame.DataFrame'>\n",
      "Int64Index: 140787 entries, 0 to 145458\n",
      "Data columns (total 23 columns):\n",
      " #   Column         Non-Null Count   Dtype         \n",
      "---  ------         --------------   -----         \n",
      " 0   Date           140787 non-null  datetime64[ns]\n",
      " 1   Location       140787 non-null  object        \n",
      " 2   MinTemp        140319 non-null  float64       \n",
      " 3   MaxTemp        140480 non-null  float64       \n",
      " 4   Rainfall       140787 non-null  float64       \n",
      " 5   Evaporation    81093 non-null   float64       \n",
      " 6   Sunshine       73982 non-null   float64       \n",
      " 7   WindGustDir    131624 non-null  object        \n",
      " 8   WindGustSpeed  131682 non-null  float64       \n",
      " 9   WindDir9am     131127 non-null  object        \n",
      " 10  WindDir3pm     137117 non-null  object        \n",
      " 11  WindSpeed9am   139732 non-null  float64       \n",
      " 12  WindSpeed3pm   138256 non-null  float64       \n",
      " 13  Humidity9am    139270 non-null  float64       \n",
      " 14  Humidity3pm    137286 non-null  float64       \n",
      " 15  Pressure9am    127044 non-null  float64       \n",
      " 16  Pressure3pm    127018 non-null  float64       \n",
      " 17  Cloud9am       88162 non-null   float64       \n",
      " 18  Cloud3pm       84693 non-null   float64       \n",
      " 19  Temp9am        140131 non-null  float64       \n",
      " 20  Temp3pm        138163 non-null  float64       \n",
      " 21  RainToday      140787 non-null  object        \n",
      " 22  RainTomorrow   140787 non-null  object        \n",
      "dtypes: datetime64[ns](1), float64(16), object(6)\n",
      "memory usage: 25.8+ MB\n"
     ]
    }
   ],
   "source": [
    "df.info()"
   ]
  },
  {
   "cell_type": "code",
   "execution_count": 119,
   "id": "3e93bc82",
   "metadata": {},
   "outputs": [
    {
     "name": "stdout",
     "output_type": "stream",
     "text": [
      "There are 6 categorical variables\n",
      "\n",
      "The categorical variables: ['Location', 'WindGustDir', 'WindDir9am', 'WindDir3pm', 'RainToday', 'RainTomorrow']\n"
     ]
    }
   ],
   "source": [
    "#mencari tau kolom parameter yang berisi kategori\n",
    "categorical = [var for var in df.columns if df[var].dtype=='O']\n",
    "\n",
    "print('There are {} categorical variables\\n'.format(len(categorical)))\n",
    "\n",
    "print('The categorical variables:', categorical)"
   ]
  },
  {
   "cell_type": "code",
   "execution_count": 120,
   "id": "2853e2b3",
   "metadata": {},
   "outputs": [
    {
     "data": {
      "text/plain": [
       "Location           0\n",
       "WindGustDir     9163\n",
       "WindDir9am      9660\n",
       "WindDir3pm      3670\n",
       "RainToday          0\n",
       "RainTomorrow       0\n",
       "dtype: int64"
      ]
     },
     "execution_count": 120,
     "metadata": {},
     "output_type": "execute_result"
    }
   ],
   "source": [
    "#mengetahui missing values di kolom parameter yang berisi kategori\n",
    "df[categorical].isnull().sum()"
   ]
  },
  {
   "cell_type": "code",
   "execution_count": 121,
   "id": "d56e7bf3",
   "metadata": {},
   "outputs": [
    {
     "name": "stdout",
     "output_type": "stream",
     "text": [
      "WindGustDir    9163\n",
      "WindDir9am     9660\n",
      "WindDir3pm     3670\n",
      "dtype: int64\n"
     ]
    }
   ],
   "source": [
    "#dari data di atas, dicari mana yang ada missing values\n",
    "catm = [var for var in categorical if df[var].isnull().sum()!=0]\n",
    "\n",
    "print(df[catm].isnull().sum())"
   ]
  },
  {
   "cell_type": "code",
   "execution_count": 122,
   "id": "a42dba27",
   "metadata": {},
   "outputs": [
    {
     "name": "stdout",
     "output_type": "stream",
     "text": [
      "Canberra            3402\n",
      "Sydney              3331\n",
      "Perth               3193\n",
      "Darwin              3192\n",
      "Hobart              3183\n",
      "Brisbane            3132\n",
      "Bendigo             3030\n",
      "Townsville          3027\n",
      "AliceSprings        3025\n",
      "MountGambier        3022\n",
      "Launceston          3020\n",
      "Adelaide            3020\n",
      "Ballarat            3017\n",
      "PerthAirport        3009\n",
      "MelbourneAirport    3009\n",
      "Mildura             3005\n",
      "SydneyAirport       3001\n",
      "Albany              2996\n",
      "Nuriootpa           2996\n",
      "Sale                2992\n",
      "Albury              2991\n",
      "Watsonia            2990\n",
      "Woomera             2984\n",
      "Portland            2984\n",
      "Cobar               2980\n",
      "Cairns              2964\n",
      "Tuggeranong         2959\n",
      "WaggaWagga          2958\n",
      "NorfolkIsland       2944\n",
      "Wollongong          2943\n",
      "SalmonGums          2941\n",
      "CoffsHarbour        2940\n",
      "Dartmoor            2939\n",
      "Newcastle           2929\n",
      "Witchcliffe         2924\n",
      "GoldCoast           2924\n",
      "Penrith             2911\n",
      "Richmond            2906\n",
      "NorahHead           2888\n",
      "BadgerysCreek       2877\n",
      "MountGinini         2816\n",
      "Moree               2791\n",
      "Walpole             2770\n",
      "PearceRAAF          2646\n",
      "Williamtown         2376\n",
      "Melbourne           2298\n",
      "Nhil                1565\n",
      "Katherine           1545\n",
      "Uluru               1502\n",
      "Name: Location, dtype: int64\n",
      "W      9696\n",
      "SE     9241\n",
      "E      8985\n",
      "N      8941\n",
      "SSE    8905\n",
      "S      8859\n",
      "WSW    8802\n",
      "SW     8702\n",
      "SSW    8541\n",
      "WNW    7960\n",
      "NW     7939\n",
      "ENE    7924\n",
      "ESE    7244\n",
      "NE     7002\n",
      "NNW    6511\n",
      "NNE    6372\n",
      "Name: WindGustDir, dtype: int64\n",
      "N      11266\n",
      "SE      9116\n",
      "E       8977\n",
      "SSE     8901\n",
      "NW      8471\n",
      "S       8424\n",
      "W       8207\n",
      "SW      8160\n",
      "NNE     7877\n",
      "NNW     7782\n",
      "ENE     7668\n",
      "ESE     7518\n",
      "NE      7477\n",
      "SSW     7397\n",
      "WNW     7100\n",
      "WSW     6786\n",
      "Name: WindDir9am, dtype: int64\n",
      "SE     10578\n",
      "W       9810\n",
      "S       9488\n",
      "WSW     9231\n",
      "SW      9104\n",
      "SSE     9038\n",
      "N       8593\n",
      "WNW     8564\n",
      "NW      8394\n",
      "ESE     8311\n",
      "E       8272\n",
      "NE      8107\n",
      "SSW     7945\n",
      "NNW     7664\n",
      "ENE     7645\n",
      "NNE     6373\n",
      "Name: WindDir3pm, dtype: int64\n",
      "No     109332\n",
      "Yes     31455\n",
      "Name: RainToday, dtype: int64\n",
      "No     109586\n",
      "Yes     31201\n",
      "Name: RainTomorrow, dtype: int64\n"
     ]
    }
   ],
   "source": [
    "#melihat isi data dari kolom parameter kategori\n",
    "for var in categorical:\n",
    "    print(df[var].value_counts())"
   ]
  },
  {
   "cell_type": "code",
   "execution_count": 123,
   "id": "0293e013",
   "metadata": {},
   "outputs": [
    {
     "name": "stdout",
     "output_type": "stream",
     "text": [
      "Canberra            0.024164\n",
      "Sydney              0.023660\n",
      "Perth               0.022680\n",
      "Darwin              0.022673\n",
      "Hobart              0.022609\n",
      "Brisbane            0.022246\n",
      "Bendigo             0.021522\n",
      "Townsville          0.021501\n",
      "AliceSprings        0.021486\n",
      "MountGambier        0.021465\n",
      "Launceston          0.021451\n",
      "Adelaide            0.021451\n",
      "Ballarat            0.021430\n",
      "PerthAirport        0.021373\n",
      "MelbourneAirport    0.021373\n",
      "Mildura             0.021344\n",
      "SydneyAirport       0.021316\n",
      "Albany              0.021280\n",
      "Nuriootpa           0.021280\n",
      "Sale                0.021252\n",
      "Albury              0.021245\n",
      "Watsonia            0.021238\n",
      "Woomera             0.021195\n",
      "Portland            0.021195\n",
      "Cobar               0.021167\n",
      "Cairns              0.021053\n",
      "Tuggeranong         0.021018\n",
      "WaggaWagga          0.021010\n",
      "NorfolkIsland       0.020911\n",
      "Wollongong          0.020904\n",
      "SalmonGums          0.020890\n",
      "CoffsHarbour        0.020883\n",
      "Dartmoor            0.020876\n",
      "Newcastle           0.020804\n",
      "Witchcliffe         0.020769\n",
      "GoldCoast           0.020769\n",
      "Penrith             0.020677\n",
      "Richmond            0.020641\n",
      "NorahHead           0.020513\n",
      "BadgerysCreek       0.020435\n",
      "MountGinini         0.020002\n",
      "Moree               0.019824\n",
      "Walpole             0.019675\n",
      "PearceRAAF          0.018794\n",
      "Williamtown         0.016877\n",
      "Melbourne           0.016323\n",
      "Nhil                0.011116\n",
      "Katherine           0.010974\n",
      "Uluru               0.010669\n",
      "Name: Location, dtype: float64\n",
      "W      0.068870\n",
      "SE     0.065638\n",
      "E      0.063820\n",
      "N      0.063507\n",
      "SSE    0.063252\n",
      "S      0.062925\n",
      "WSW    0.062520\n",
      "SW     0.061810\n",
      "SSW    0.060666\n",
      "WNW    0.056539\n",
      "NW     0.056390\n",
      "ENE    0.056284\n",
      "ESE    0.051454\n",
      "NE     0.049735\n",
      "NNW    0.046247\n",
      "NNE    0.045260\n",
      "Name: WindGustDir, dtype: float64\n",
      "N      0.080022\n",
      "SE     0.064750\n",
      "E      0.063763\n",
      "SSE    0.063223\n",
      "NW     0.060169\n",
      "S      0.059835\n",
      "W      0.058294\n",
      "SW     0.057960\n",
      "NNE    0.055950\n",
      "NNW    0.055275\n",
      "ENE    0.054465\n",
      "ESE    0.053400\n",
      "NE     0.053109\n",
      "SSW    0.052540\n",
      "WNW    0.050431\n",
      "WSW    0.048200\n",
      "Name: WindDir9am, dtype: float64\n",
      "SE     0.075135\n",
      "W      0.069680\n",
      "S      0.067393\n",
      "WSW    0.065567\n",
      "SW     0.064665\n",
      "SSE    0.064196\n",
      "N      0.061035\n",
      "WNW    0.060829\n",
      "NW     0.059622\n",
      "ESE    0.059032\n",
      "E      0.058755\n",
      "NE     0.057583\n",
      "SSW    0.056433\n",
      "NNW    0.054437\n",
      "ENE    0.054302\n",
      "NNE    0.045267\n",
      "Name: WindDir3pm, dtype: float64\n",
      "No     0.776577\n",
      "Yes    0.223423\n",
      "Name: RainToday, dtype: float64\n",
      "No     0.778382\n",
      "Yes    0.221618\n",
      "Name: RainTomorrow, dtype: float64\n"
     ]
    }
   ],
   "source": [
    "#menghitung proporsi munculnya nilai unik dari tiap data\n",
    "import numpy as np\n",
    "for var in categorical: \n",
    "    print(df[var].value_counts()/float(len(df)))"
   ]
  },
  {
   "cell_type": "code",
   "execution_count": 124,
   "id": "7b4a2921",
   "metadata": {},
   "outputs": [
    {
     "name": "stdout",
     "output_type": "stream",
     "text": [
      "Location contains 49 labels\n",
      "WindGustDir contains 17 labels\n",
      "WindDir9am contains 17 labels\n",
      "WindDir3pm contains 17 labels\n",
      "RainToday contains 2 labels\n",
      "RainTomorrow contains 2 labels\n"
     ]
    }
   ],
   "source": [
    "#melihat banyaknya nilai unik dari tiap kolom\n",
    "for var in categorical:\n",
    "    print(var, 'contains', len(df[var].unique()), 'labels')"
   ]
  },
  {
   "cell_type": "code",
   "execution_count": 125,
   "id": "00b7b0e0",
   "metadata": {},
   "outputs": [
    {
     "data": {
      "text/plain": [
       "0    2008\n",
       "1    2008\n",
       "2    2008\n",
       "3    2008\n",
       "4    2008\n",
       "Name: Year, dtype: int64"
      ]
     },
     "execution_count": 125,
     "metadata": {},
     "output_type": "execute_result"
    }
   ],
   "source": [
    "#memisahkan tahun dari kolom Date menjadi kolom baru Year, untuk memudahkan\n",
    "df['Year'] = df['Date'].dt.year\n",
    "\n",
    "df['Year'].head()"
   ]
  },
  {
   "cell_type": "code",
   "execution_count": 126,
   "id": "d26bd169",
   "metadata": {},
   "outputs": [
    {
     "data": {
      "text/plain": [
       "0    12\n",
       "1    12\n",
       "2    12\n",
       "3    12\n",
       "4    12\n",
       "Name: Month, dtype: int64"
      ]
     },
     "execution_count": 126,
     "metadata": {},
     "output_type": "execute_result"
    }
   ],
   "source": [
    "#memisahkan bulan dari kolom Date menjadi kolom baru Month\n",
    "df['Month'] = df['Date'].dt.month\n",
    "\n",
    "df['Month'].head()"
   ]
  },
  {
   "cell_type": "code",
   "execution_count": 127,
   "id": "e4df3b12",
   "metadata": {},
   "outputs": [
    {
     "data": {
      "text/plain": [
       "0    1\n",
       "1    2\n",
       "2    3\n",
       "3    4\n",
       "4    5\n",
       "Name: Day, dtype: int64"
      ]
     },
     "execution_count": 127,
     "metadata": {},
     "output_type": "execute_result"
    }
   ],
   "source": [
    "#memisahkan tanggal hari dari kolom Date menjadi kolom baru Day\n",
    "df['Day'] = df['Date'].dt.day\n",
    "\n",
    "df['Day'].head()"
   ]
  },
  {
   "cell_type": "code",
   "execution_count": 128,
   "id": "c53302ab",
   "metadata": {},
   "outputs": [
    {
     "name": "stdout",
     "output_type": "stream",
     "text": [
      "<class 'pandas.core.frame.DataFrame'>\n",
      "Int64Index: 140787 entries, 0 to 145458\n",
      "Data columns (total 26 columns):\n",
      " #   Column         Non-Null Count   Dtype         \n",
      "---  ------         --------------   -----         \n",
      " 0   Date           140787 non-null  datetime64[ns]\n",
      " 1   Location       140787 non-null  object        \n",
      " 2   MinTemp        140319 non-null  float64       \n",
      " 3   MaxTemp        140480 non-null  float64       \n",
      " 4   Rainfall       140787 non-null  float64       \n",
      " 5   Evaporation    81093 non-null   float64       \n",
      " 6   Sunshine       73982 non-null   float64       \n",
      " 7   WindGustDir    131624 non-null  object        \n",
      " 8   WindGustSpeed  131682 non-null  float64       \n",
      " 9   WindDir9am     131127 non-null  object        \n",
      " 10  WindDir3pm     137117 non-null  object        \n",
      " 11  WindSpeed9am   139732 non-null  float64       \n",
      " 12  WindSpeed3pm   138256 non-null  float64       \n",
      " 13  Humidity9am    139270 non-null  float64       \n",
      " 14  Humidity3pm    137286 non-null  float64       \n",
      " 15  Pressure9am    127044 non-null  float64       \n",
      " 16  Pressure3pm    127018 non-null  float64       \n",
      " 17  Cloud9am       88162 non-null   float64       \n",
      " 18  Cloud3pm       84693 non-null   float64       \n",
      " 19  Temp9am        140131 non-null  float64       \n",
      " 20  Temp3pm        138163 non-null  float64       \n",
      " 21  RainToday      140787 non-null  object        \n",
      " 22  RainTomorrow   140787 non-null  object        \n",
      " 23  Year           140787 non-null  int64         \n",
      " 24  Month          140787 non-null  int64         \n",
      " 25  Day            140787 non-null  int64         \n",
      "dtypes: datetime64[ns](1), float64(16), int64(3), object(6)\n",
      "memory usage: 29.0+ MB\n"
     ]
    }
   ],
   "source": [
    "df.info()"
   ]
  },
  {
   "cell_type": "code",
   "execution_count": 129,
   "id": "a3799ebb",
   "metadata": {},
   "outputs": [],
   "source": [
    "#karena sudah dipisahkan Day, Month, Year, jadi menghapus kolom Date\n",
    "df.drop('Date', axis=1, inplace=True)"
   ]
  },
  {
   "cell_type": "code",
   "execution_count": 130,
   "id": "a0dd6dc8",
   "metadata": {},
   "outputs": [
    {
     "data": {
      "text/html": [
       "<div>\n",
       "<style scoped>\n",
       "    .dataframe tbody tr th:only-of-type {\n",
       "        vertical-align: middle;\n",
       "    }\n",
       "\n",
       "    .dataframe tbody tr th {\n",
       "        vertical-align: top;\n",
       "    }\n",
       "\n",
       "    .dataframe thead th {\n",
       "        text-align: right;\n",
       "    }\n",
       "</style>\n",
       "<table border=\"1\" class=\"dataframe\">\n",
       "  <thead>\n",
       "    <tr style=\"text-align: right;\">\n",
       "      <th></th>\n",
       "      <th>Location</th>\n",
       "      <th>MinTemp</th>\n",
       "      <th>MaxTemp</th>\n",
       "      <th>Rainfall</th>\n",
       "      <th>Evaporation</th>\n",
       "      <th>Sunshine</th>\n",
       "      <th>WindGustDir</th>\n",
       "      <th>WindGustSpeed</th>\n",
       "      <th>WindDir9am</th>\n",
       "      <th>WindDir3pm</th>\n",
       "      <th>...</th>\n",
       "      <th>Pressure3pm</th>\n",
       "      <th>Cloud9am</th>\n",
       "      <th>Cloud3pm</th>\n",
       "      <th>Temp9am</th>\n",
       "      <th>Temp3pm</th>\n",
       "      <th>RainToday</th>\n",
       "      <th>RainTomorrow</th>\n",
       "      <th>Year</th>\n",
       "      <th>Month</th>\n",
       "      <th>Day</th>\n",
       "    </tr>\n",
       "  </thead>\n",
       "  <tbody>\n",
       "    <tr>\n",
       "      <th>0</th>\n",
       "      <td>Albury</td>\n",
       "      <td>13.4</td>\n",
       "      <td>22.9</td>\n",
       "      <td>0.6</td>\n",
       "      <td>NaN</td>\n",
       "      <td>NaN</td>\n",
       "      <td>W</td>\n",
       "      <td>44.0</td>\n",
       "      <td>W</td>\n",
       "      <td>WNW</td>\n",
       "      <td>...</td>\n",
       "      <td>1007.1</td>\n",
       "      <td>8.0</td>\n",
       "      <td>NaN</td>\n",
       "      <td>16.9</td>\n",
       "      <td>21.8</td>\n",
       "      <td>No</td>\n",
       "      <td>No</td>\n",
       "      <td>2008</td>\n",
       "      <td>12</td>\n",
       "      <td>1</td>\n",
       "    </tr>\n",
       "    <tr>\n",
       "      <th>1</th>\n",
       "      <td>Albury</td>\n",
       "      <td>7.4</td>\n",
       "      <td>25.1</td>\n",
       "      <td>0.0</td>\n",
       "      <td>NaN</td>\n",
       "      <td>NaN</td>\n",
       "      <td>WNW</td>\n",
       "      <td>44.0</td>\n",
       "      <td>NNW</td>\n",
       "      <td>WSW</td>\n",
       "      <td>...</td>\n",
       "      <td>1007.8</td>\n",
       "      <td>NaN</td>\n",
       "      <td>NaN</td>\n",
       "      <td>17.2</td>\n",
       "      <td>24.3</td>\n",
       "      <td>No</td>\n",
       "      <td>No</td>\n",
       "      <td>2008</td>\n",
       "      <td>12</td>\n",
       "      <td>2</td>\n",
       "    </tr>\n",
       "    <tr>\n",
       "      <th>2</th>\n",
       "      <td>Albury</td>\n",
       "      <td>12.9</td>\n",
       "      <td>25.7</td>\n",
       "      <td>0.0</td>\n",
       "      <td>NaN</td>\n",
       "      <td>NaN</td>\n",
       "      <td>WSW</td>\n",
       "      <td>46.0</td>\n",
       "      <td>W</td>\n",
       "      <td>WSW</td>\n",
       "      <td>...</td>\n",
       "      <td>1008.7</td>\n",
       "      <td>NaN</td>\n",
       "      <td>2.0</td>\n",
       "      <td>21.0</td>\n",
       "      <td>23.2</td>\n",
       "      <td>No</td>\n",
       "      <td>No</td>\n",
       "      <td>2008</td>\n",
       "      <td>12</td>\n",
       "      <td>3</td>\n",
       "    </tr>\n",
       "    <tr>\n",
       "      <th>3</th>\n",
       "      <td>Albury</td>\n",
       "      <td>9.2</td>\n",
       "      <td>28.0</td>\n",
       "      <td>0.0</td>\n",
       "      <td>NaN</td>\n",
       "      <td>NaN</td>\n",
       "      <td>NE</td>\n",
       "      <td>24.0</td>\n",
       "      <td>SE</td>\n",
       "      <td>E</td>\n",
       "      <td>...</td>\n",
       "      <td>1012.8</td>\n",
       "      <td>NaN</td>\n",
       "      <td>NaN</td>\n",
       "      <td>18.1</td>\n",
       "      <td>26.5</td>\n",
       "      <td>No</td>\n",
       "      <td>No</td>\n",
       "      <td>2008</td>\n",
       "      <td>12</td>\n",
       "      <td>4</td>\n",
       "    </tr>\n",
       "    <tr>\n",
       "      <th>4</th>\n",
       "      <td>Albury</td>\n",
       "      <td>17.5</td>\n",
       "      <td>32.3</td>\n",
       "      <td>1.0</td>\n",
       "      <td>NaN</td>\n",
       "      <td>NaN</td>\n",
       "      <td>W</td>\n",
       "      <td>41.0</td>\n",
       "      <td>ENE</td>\n",
       "      <td>NW</td>\n",
       "      <td>...</td>\n",
       "      <td>1006.0</td>\n",
       "      <td>7.0</td>\n",
       "      <td>8.0</td>\n",
       "      <td>17.8</td>\n",
       "      <td>29.7</td>\n",
       "      <td>No</td>\n",
       "      <td>No</td>\n",
       "      <td>2008</td>\n",
       "      <td>12</td>\n",
       "      <td>5</td>\n",
       "    </tr>\n",
       "  </tbody>\n",
       "</table>\n",
       "<p>5 rows × 25 columns</p>\n",
       "</div>"
      ],
      "text/plain": [
       "  Location  MinTemp  MaxTemp  Rainfall  Evaporation  Sunshine WindGustDir  \\\n",
       "0   Albury     13.4     22.9       0.6          NaN       NaN           W   \n",
       "1   Albury      7.4     25.1       0.0          NaN       NaN         WNW   \n",
       "2   Albury     12.9     25.7       0.0          NaN       NaN         WSW   \n",
       "3   Albury      9.2     28.0       0.0          NaN       NaN          NE   \n",
       "4   Albury     17.5     32.3       1.0          NaN       NaN           W   \n",
       "\n",
       "   WindGustSpeed WindDir9am WindDir3pm  ...  Pressure3pm  Cloud9am  Cloud3pm  \\\n",
       "0           44.0          W        WNW  ...       1007.1       8.0       NaN   \n",
       "1           44.0        NNW        WSW  ...       1007.8       NaN       NaN   \n",
       "2           46.0          W        WSW  ...       1008.7       NaN       2.0   \n",
       "3           24.0         SE          E  ...       1012.8       NaN       NaN   \n",
       "4           41.0        ENE         NW  ...       1006.0       7.0       8.0   \n",
       "\n",
       "   Temp9am  Temp3pm  RainToday  RainTomorrow  Year  Month  Day  \n",
       "0     16.9     21.8         No            No  2008     12    1  \n",
       "1     17.2     24.3         No            No  2008     12    2  \n",
       "2     21.0     23.2         No            No  2008     12    3  \n",
       "3     18.1     26.5         No            No  2008     12    4  \n",
       "4     17.8     29.7         No            No  2008     12    5  \n",
       "\n",
       "[5 rows x 25 columns]"
      ]
     },
     "execution_count": 130,
     "metadata": {},
     "output_type": "execute_result"
    }
   ],
   "source": [
    "df.head()"
   ]
  },
  {
   "cell_type": "code",
   "execution_count": 131,
   "id": "164d8959",
   "metadata": {},
   "outputs": [
    {
     "name": "stdout",
     "output_type": "stream",
     "text": [
      "Location: 49 labels\n"
     ]
    }
   ],
   "source": [
    "#mengetahui nilai unik dari kolom Location\n",
    "print('Location:', len(df.Location.unique()), 'labels')"
   ]
  },
  {
   "cell_type": "code",
   "execution_count": 132,
   "id": "729c72bd",
   "metadata": {},
   "outputs": [
    {
     "data": {
      "text/plain": [
       "array(['Albury', 'BadgerysCreek', 'Cobar', 'CoffsHarbour', 'Moree',\n",
       "       'Newcastle', 'NorahHead', 'NorfolkIsland', 'Penrith', 'Richmond',\n",
       "       'Sydney', 'SydneyAirport', 'WaggaWagga', 'Williamtown',\n",
       "       'Wollongong', 'Canberra', 'Tuggeranong', 'MountGinini', 'Ballarat',\n",
       "       'Bendigo', 'Sale', 'MelbourneAirport', 'Melbourne', 'Mildura',\n",
       "       'Nhil', 'Portland', 'Watsonia', 'Dartmoor', 'Brisbane', 'Cairns',\n",
       "       'GoldCoast', 'Townsville', 'Adelaide', 'MountGambier', 'Nuriootpa',\n",
       "       'Woomera', 'Albany', 'Witchcliffe', 'PearceRAAF', 'PerthAirport',\n",
       "       'Perth', 'SalmonGums', 'Walpole', 'Hobart', 'Launceston',\n",
       "       'AliceSprings', 'Darwin', 'Katherine', 'Uluru'], dtype=object)"
      ]
     },
     "execution_count": 132,
     "metadata": {},
     "output_type": "execute_result"
    }
   ],
   "source": [
    "df.Location.unique()"
   ]
  },
  {
   "cell_type": "code",
   "execution_count": 133,
   "id": "2e898a23",
   "metadata": {},
   "outputs": [
    {
     "data": {
      "text/plain": [
       "Canberra            3402\n",
       "Sydney              3331\n",
       "Perth               3193\n",
       "Darwin              3192\n",
       "Hobart              3183\n",
       "Brisbane            3132\n",
       "Bendigo             3030\n",
       "Townsville          3027\n",
       "AliceSprings        3025\n",
       "MountGambier        3022\n",
       "Launceston          3020\n",
       "Adelaide            3020\n",
       "Ballarat            3017\n",
       "PerthAirport        3009\n",
       "MelbourneAirport    3009\n",
       "Mildura             3005\n",
       "SydneyAirport       3001\n",
       "Albany              2996\n",
       "Nuriootpa           2996\n",
       "Sale                2992\n",
       "Albury              2991\n",
       "Watsonia            2990\n",
       "Woomera             2984\n",
       "Portland            2984\n",
       "Cobar               2980\n",
       "Cairns              2964\n",
       "Tuggeranong         2959\n",
       "WaggaWagga          2958\n",
       "NorfolkIsland       2944\n",
       "Wollongong          2943\n",
       "SalmonGums          2941\n",
       "CoffsHarbour        2940\n",
       "Dartmoor            2939\n",
       "Newcastle           2929\n",
       "Witchcliffe         2924\n",
       "GoldCoast           2924\n",
       "Penrith             2911\n",
       "Richmond            2906\n",
       "NorahHead           2888\n",
       "BadgerysCreek       2877\n",
       "MountGinini         2816\n",
       "Moree               2791\n",
       "Walpole             2770\n",
       "PearceRAAF          2646\n",
       "Williamtown         2376\n",
       "Melbourne           2298\n",
       "Nhil                1565\n",
       "Katherine           1545\n",
       "Uluru               1502\n",
       "Name: Location, dtype: int64"
      ]
     },
     "execution_count": 133,
     "metadata": {},
     "output_type": "execute_result"
    }
   ],
   "source": [
    "#mengetahui berapa banyak dari tiap nilai unik\n",
    "df.Location.value_counts()"
   ]
  },
  {
   "cell_type": "code",
   "execution_count": 134,
   "id": "18093746",
   "metadata": {},
   "outputs": [
    {
     "data": {
      "text/html": [
       "<div>\n",
       "<style scoped>\n",
       "    .dataframe tbody tr th:only-of-type {\n",
       "        vertical-align: middle;\n",
       "    }\n",
       "\n",
       "    .dataframe tbody tr th {\n",
       "        vertical-align: top;\n",
       "    }\n",
       "\n",
       "    .dataframe thead th {\n",
       "        text-align: right;\n",
       "    }\n",
       "</style>\n",
       "<table border=\"1\" class=\"dataframe\">\n",
       "  <thead>\n",
       "    <tr style=\"text-align: right;\">\n",
       "      <th></th>\n",
       "      <th>Albany</th>\n",
       "      <th>Albury</th>\n",
       "      <th>AliceSprings</th>\n",
       "      <th>BadgerysCreek</th>\n",
       "      <th>Ballarat</th>\n",
       "      <th>Bendigo</th>\n",
       "      <th>Brisbane</th>\n",
       "      <th>Cairns</th>\n",
       "      <th>Canberra</th>\n",
       "      <th>Cobar</th>\n",
       "      <th>...</th>\n",
       "      <th>Townsville</th>\n",
       "      <th>Tuggeranong</th>\n",
       "      <th>Uluru</th>\n",
       "      <th>WaggaWagga</th>\n",
       "      <th>Walpole</th>\n",
       "      <th>Watsonia</th>\n",
       "      <th>Williamtown</th>\n",
       "      <th>Witchcliffe</th>\n",
       "      <th>Wollongong</th>\n",
       "      <th>Woomera</th>\n",
       "    </tr>\n",
       "  </thead>\n",
       "  <tbody>\n",
       "    <tr>\n",
       "      <th>0</th>\n",
       "      <td>0</td>\n",
       "      <td>1</td>\n",
       "      <td>0</td>\n",
       "      <td>0</td>\n",
       "      <td>0</td>\n",
       "      <td>0</td>\n",
       "      <td>0</td>\n",
       "      <td>0</td>\n",
       "      <td>0</td>\n",
       "      <td>0</td>\n",
       "      <td>...</td>\n",
       "      <td>0</td>\n",
       "      <td>0</td>\n",
       "      <td>0</td>\n",
       "      <td>0</td>\n",
       "      <td>0</td>\n",
       "      <td>0</td>\n",
       "      <td>0</td>\n",
       "      <td>0</td>\n",
       "      <td>0</td>\n",
       "      <td>0</td>\n",
       "    </tr>\n",
       "    <tr>\n",
       "      <th>1</th>\n",
       "      <td>0</td>\n",
       "      <td>1</td>\n",
       "      <td>0</td>\n",
       "      <td>0</td>\n",
       "      <td>0</td>\n",
       "      <td>0</td>\n",
       "      <td>0</td>\n",
       "      <td>0</td>\n",
       "      <td>0</td>\n",
       "      <td>0</td>\n",
       "      <td>...</td>\n",
       "      <td>0</td>\n",
       "      <td>0</td>\n",
       "      <td>0</td>\n",
       "      <td>0</td>\n",
       "      <td>0</td>\n",
       "      <td>0</td>\n",
       "      <td>0</td>\n",
       "      <td>0</td>\n",
       "      <td>0</td>\n",
       "      <td>0</td>\n",
       "    </tr>\n",
       "    <tr>\n",
       "      <th>2</th>\n",
       "      <td>0</td>\n",
       "      <td>1</td>\n",
       "      <td>0</td>\n",
       "      <td>0</td>\n",
       "      <td>0</td>\n",
       "      <td>0</td>\n",
       "      <td>0</td>\n",
       "      <td>0</td>\n",
       "      <td>0</td>\n",
       "      <td>0</td>\n",
       "      <td>...</td>\n",
       "      <td>0</td>\n",
       "      <td>0</td>\n",
       "      <td>0</td>\n",
       "      <td>0</td>\n",
       "      <td>0</td>\n",
       "      <td>0</td>\n",
       "      <td>0</td>\n",
       "      <td>0</td>\n",
       "      <td>0</td>\n",
       "      <td>0</td>\n",
       "    </tr>\n",
       "    <tr>\n",
       "      <th>3</th>\n",
       "      <td>0</td>\n",
       "      <td>1</td>\n",
       "      <td>0</td>\n",
       "      <td>0</td>\n",
       "      <td>0</td>\n",
       "      <td>0</td>\n",
       "      <td>0</td>\n",
       "      <td>0</td>\n",
       "      <td>0</td>\n",
       "      <td>0</td>\n",
       "      <td>...</td>\n",
       "      <td>0</td>\n",
       "      <td>0</td>\n",
       "      <td>0</td>\n",
       "      <td>0</td>\n",
       "      <td>0</td>\n",
       "      <td>0</td>\n",
       "      <td>0</td>\n",
       "      <td>0</td>\n",
       "      <td>0</td>\n",
       "      <td>0</td>\n",
       "    </tr>\n",
       "    <tr>\n",
       "      <th>4</th>\n",
       "      <td>0</td>\n",
       "      <td>1</td>\n",
       "      <td>0</td>\n",
       "      <td>0</td>\n",
       "      <td>0</td>\n",
       "      <td>0</td>\n",
       "      <td>0</td>\n",
       "      <td>0</td>\n",
       "      <td>0</td>\n",
       "      <td>0</td>\n",
       "      <td>...</td>\n",
       "      <td>0</td>\n",
       "      <td>0</td>\n",
       "      <td>0</td>\n",
       "      <td>0</td>\n",
       "      <td>0</td>\n",
       "      <td>0</td>\n",
       "      <td>0</td>\n",
       "      <td>0</td>\n",
       "      <td>0</td>\n",
       "      <td>0</td>\n",
       "    </tr>\n",
       "  </tbody>\n",
       "</table>\n",
       "<p>5 rows × 48 columns</p>\n",
       "</div>"
      ],
      "text/plain": [
       "   Albany  Albury  AliceSprings  BadgerysCreek  Ballarat  Bendigo  Brisbane  \\\n",
       "0       0       1             0              0         0        0         0   \n",
       "1       0       1             0              0         0        0         0   \n",
       "2       0       1             0              0         0        0         0   \n",
       "3       0       1             0              0         0        0         0   \n",
       "4       0       1             0              0         0        0         0   \n",
       "\n",
       "   Cairns  Canberra  Cobar  ...  Townsville  Tuggeranong  Uluru  WaggaWagga  \\\n",
       "0       0         0      0  ...           0            0      0           0   \n",
       "1       0         0      0  ...           0            0      0           0   \n",
       "2       0         0      0  ...           0            0      0           0   \n",
       "3       0         0      0  ...           0            0      0           0   \n",
       "4       0         0      0  ...           0            0      0           0   \n",
       "\n",
       "   Walpole  Watsonia  Williamtown  Witchcliffe  Wollongong  Woomera  \n",
       "0        0         0            0            0           0        0  \n",
       "1        0         0            0            0           0        0  \n",
       "2        0         0            0            0           0        0  \n",
       "3        0         0            0            0           0        0  \n",
       "4        0         0            0            0           0        0  \n",
       "\n",
       "[5 rows x 48 columns]"
      ]
     },
     "execution_count": 134,
     "metadata": {},
     "output_type": "execute_result"
    }
   ],
   "source": [
    "#membuat kolom dummy khusus untuk Location dengan biner 0 atau 1\n",
    "pd.get_dummies(df.Location, drop_first=True).head()"
   ]
  },
  {
   "cell_type": "code",
   "execution_count": 135,
   "id": "d66bfa54",
   "metadata": {},
   "outputs": [
    {
     "name": "stdout",
     "output_type": "stream",
     "text": [
      "WindGustDir: 17 labels\n"
     ]
    }
   ],
   "source": [
    "#dilakukan hal yang sama ke WindGustDir\n",
    "print('WindGustDir:', len(df.WindGustDir.unique()), 'labels')"
   ]
  },
  {
   "cell_type": "code",
   "execution_count": 136,
   "id": "f2b0c80e",
   "metadata": {},
   "outputs": [
    {
     "data": {
      "text/plain": [
       "array(['W', 'WNW', 'WSW', 'NE', 'NNW', 'N', 'NNE', 'SW', 'ENE', 'SSE',\n",
       "       'S', 'NW', 'SE', 'ESE', nan, 'E', 'SSW'], dtype=object)"
      ]
     },
     "execution_count": 136,
     "metadata": {},
     "output_type": "execute_result"
    }
   ],
   "source": [
    "df.WindGustDir.unique()"
   ]
  },
  {
   "cell_type": "code",
   "execution_count": 137,
   "id": "2a42812b",
   "metadata": {
    "scrolled": true
   },
   "outputs": [
    {
     "data": {
      "text/plain": [
       "W      9696\n",
       "SE     9241\n",
       "E      8985\n",
       "N      8941\n",
       "SSE    8905\n",
       "S      8859\n",
       "WSW    8802\n",
       "SW     8702\n",
       "SSW    8541\n",
       "WNW    7960\n",
       "NW     7939\n",
       "ENE    7924\n",
       "ESE    7244\n",
       "NE     7002\n",
       "NNW    6511\n",
       "NNE    6372\n",
       "Name: WindGustDir, dtype: int64"
      ]
     },
     "execution_count": 137,
     "metadata": {},
     "output_type": "execute_result"
    }
   ],
   "source": [
    "df.WindGustDir.value_counts()"
   ]
  },
  {
   "cell_type": "code",
   "execution_count": 138,
   "id": "216a5bca",
   "metadata": {},
   "outputs": [
    {
     "data": {
      "text/html": [
       "<div>\n",
       "<style scoped>\n",
       "    .dataframe tbody tr th:only-of-type {\n",
       "        vertical-align: middle;\n",
       "    }\n",
       "\n",
       "    .dataframe tbody tr th {\n",
       "        vertical-align: top;\n",
       "    }\n",
       "\n",
       "    .dataframe thead th {\n",
       "        text-align: right;\n",
       "    }\n",
       "</style>\n",
       "<table border=\"1\" class=\"dataframe\">\n",
       "  <thead>\n",
       "    <tr style=\"text-align: right;\">\n",
       "      <th></th>\n",
       "      <th>ENE</th>\n",
       "      <th>ESE</th>\n",
       "      <th>N</th>\n",
       "      <th>NE</th>\n",
       "      <th>NNE</th>\n",
       "      <th>NNW</th>\n",
       "      <th>NW</th>\n",
       "      <th>S</th>\n",
       "      <th>SE</th>\n",
       "      <th>SSE</th>\n",
       "      <th>SSW</th>\n",
       "      <th>SW</th>\n",
       "      <th>W</th>\n",
       "      <th>WNW</th>\n",
       "      <th>WSW</th>\n",
       "      <th>NaN</th>\n",
       "    </tr>\n",
       "  </thead>\n",
       "  <tbody>\n",
       "    <tr>\n",
       "      <th>0</th>\n",
       "      <td>0</td>\n",
       "      <td>0</td>\n",
       "      <td>0</td>\n",
       "      <td>0</td>\n",
       "      <td>0</td>\n",
       "      <td>0</td>\n",
       "      <td>0</td>\n",
       "      <td>0</td>\n",
       "      <td>0</td>\n",
       "      <td>0</td>\n",
       "      <td>0</td>\n",
       "      <td>0</td>\n",
       "      <td>1</td>\n",
       "      <td>0</td>\n",
       "      <td>0</td>\n",
       "      <td>0</td>\n",
       "    </tr>\n",
       "    <tr>\n",
       "      <th>1</th>\n",
       "      <td>0</td>\n",
       "      <td>0</td>\n",
       "      <td>0</td>\n",
       "      <td>0</td>\n",
       "      <td>0</td>\n",
       "      <td>0</td>\n",
       "      <td>0</td>\n",
       "      <td>0</td>\n",
       "      <td>0</td>\n",
       "      <td>0</td>\n",
       "      <td>0</td>\n",
       "      <td>0</td>\n",
       "      <td>0</td>\n",
       "      <td>1</td>\n",
       "      <td>0</td>\n",
       "      <td>0</td>\n",
       "    </tr>\n",
       "    <tr>\n",
       "      <th>2</th>\n",
       "      <td>0</td>\n",
       "      <td>0</td>\n",
       "      <td>0</td>\n",
       "      <td>0</td>\n",
       "      <td>0</td>\n",
       "      <td>0</td>\n",
       "      <td>0</td>\n",
       "      <td>0</td>\n",
       "      <td>0</td>\n",
       "      <td>0</td>\n",
       "      <td>0</td>\n",
       "      <td>0</td>\n",
       "      <td>0</td>\n",
       "      <td>0</td>\n",
       "      <td>1</td>\n",
       "      <td>0</td>\n",
       "    </tr>\n",
       "    <tr>\n",
       "      <th>3</th>\n",
       "      <td>0</td>\n",
       "      <td>0</td>\n",
       "      <td>0</td>\n",
       "      <td>1</td>\n",
       "      <td>0</td>\n",
       "      <td>0</td>\n",
       "      <td>0</td>\n",
       "      <td>0</td>\n",
       "      <td>0</td>\n",
       "      <td>0</td>\n",
       "      <td>0</td>\n",
       "      <td>0</td>\n",
       "      <td>0</td>\n",
       "      <td>0</td>\n",
       "      <td>0</td>\n",
       "      <td>0</td>\n",
       "    </tr>\n",
       "    <tr>\n",
       "      <th>4</th>\n",
       "      <td>0</td>\n",
       "      <td>0</td>\n",
       "      <td>0</td>\n",
       "      <td>0</td>\n",
       "      <td>0</td>\n",
       "      <td>0</td>\n",
       "      <td>0</td>\n",
       "      <td>0</td>\n",
       "      <td>0</td>\n",
       "      <td>0</td>\n",
       "      <td>0</td>\n",
       "      <td>0</td>\n",
       "      <td>1</td>\n",
       "      <td>0</td>\n",
       "      <td>0</td>\n",
       "      <td>0</td>\n",
       "    </tr>\n",
       "  </tbody>\n",
       "</table>\n",
       "</div>"
      ],
      "text/plain": [
       "   ENE  ESE  N  NE  NNE  NNW  NW  S  SE  SSE  SSW  SW  W  WNW  WSW  NaN\n",
       "0    0    0  0   0    0    0   0  0   0    0    0   0  1    0    0    0\n",
       "1    0    0  0   0    0    0   0  0   0    0    0   0  0    1    0    0\n",
       "2    0    0  0   0    0    0   0  0   0    0    0   0  0    0    1    0\n",
       "3    0    0  0   1    0    0   0  0   0    0    0   0  0    0    0    0\n",
       "4    0    0  0   0    0    0   0  0   0    0    0   0  1    0    0    0"
      ]
     },
     "execution_count": 138,
     "metadata": {},
     "output_type": "execute_result"
    }
   ],
   "source": [
    "pd.get_dummies(df.WindGustDir, drop_first=True, dummy_na=True).head()"
   ]
  },
  {
   "cell_type": "code",
   "execution_count": 139,
   "id": "9e86f941",
   "metadata": {},
   "outputs": [
    {
     "data": {
      "text/plain": [
       "ENE    7924\n",
       "ESE    7244\n",
       "N      8941\n",
       "NE     7002\n",
       "NNE    6372\n",
       "NNW    6511\n",
       "NW     7939\n",
       "S      8859\n",
       "SE     9241\n",
       "SSE    8905\n",
       "SSW    8541\n",
       "SW     8702\n",
       "W      9696\n",
       "WNW    7960\n",
       "WSW    8802\n",
       "NaN    9163\n",
       "dtype: int64"
      ]
     },
     "execution_count": 139,
     "metadata": {},
     "output_type": "execute_result"
    }
   ],
   "source": [
    "pd.get_dummies(df.WindGustDir, drop_first=True, dummy_na=True).sum(axis=0)"
   ]
  },
  {
   "cell_type": "code",
   "execution_count": 140,
   "id": "7a2f4d2b",
   "metadata": {},
   "outputs": [
    {
     "name": "stdout",
     "output_type": "stream",
     "text": [
      "WindDir9am: 17 labels\n"
     ]
    }
   ],
   "source": [
    "#dilakukan hal yang sama untuk WindDir9am\n",
    "print('WindDir9am:', len(df.WindDir9am.unique()), 'labels')"
   ]
  },
  {
   "cell_type": "code",
   "execution_count": 141,
   "id": "0fe7a56a",
   "metadata": {},
   "outputs": [
    {
     "data": {
      "text/plain": [
       "array(['W', 'NNW', 'SE', 'ENE', 'SW', 'SSE', 'S', 'NE', 'SSW', 'N', 'WSW',\n",
       "       'ESE', 'E', nan, 'NW', 'WNW', 'NNE'], dtype=object)"
      ]
     },
     "execution_count": 141,
     "metadata": {},
     "output_type": "execute_result"
    }
   ],
   "source": [
    "df.WindDir9am.unique()"
   ]
  },
  {
   "cell_type": "code",
   "execution_count": 142,
   "id": "737550c5",
   "metadata": {},
   "outputs": [
    {
     "data": {
      "text/plain": [
       "N      11266\n",
       "SE      9116\n",
       "E       8977\n",
       "SSE     8901\n",
       "NW      8471\n",
       "S       8424\n",
       "W       8207\n",
       "SW      8160\n",
       "NNE     7877\n",
       "NNW     7782\n",
       "ENE     7668\n",
       "ESE     7518\n",
       "NE      7477\n",
       "SSW     7397\n",
       "WNW     7100\n",
       "WSW     6786\n",
       "Name: WindDir9am, dtype: int64"
      ]
     },
     "execution_count": 142,
     "metadata": {},
     "output_type": "execute_result"
    }
   ],
   "source": [
    "df.WindDir9am.value_counts()"
   ]
  },
  {
   "cell_type": "code",
   "execution_count": 143,
   "id": "8cef9bdc",
   "metadata": {},
   "outputs": [
    {
     "data": {
      "text/html": [
       "<div>\n",
       "<style scoped>\n",
       "    .dataframe tbody tr th:only-of-type {\n",
       "        vertical-align: middle;\n",
       "    }\n",
       "\n",
       "    .dataframe tbody tr th {\n",
       "        vertical-align: top;\n",
       "    }\n",
       "\n",
       "    .dataframe thead th {\n",
       "        text-align: right;\n",
       "    }\n",
       "</style>\n",
       "<table border=\"1\" class=\"dataframe\">\n",
       "  <thead>\n",
       "    <tr style=\"text-align: right;\">\n",
       "      <th></th>\n",
       "      <th>ENE</th>\n",
       "      <th>ESE</th>\n",
       "      <th>N</th>\n",
       "      <th>NE</th>\n",
       "      <th>NNE</th>\n",
       "      <th>NNW</th>\n",
       "      <th>NW</th>\n",
       "      <th>S</th>\n",
       "      <th>SE</th>\n",
       "      <th>SSE</th>\n",
       "      <th>SSW</th>\n",
       "      <th>SW</th>\n",
       "      <th>W</th>\n",
       "      <th>WNW</th>\n",
       "      <th>WSW</th>\n",
       "      <th>NaN</th>\n",
       "    </tr>\n",
       "  </thead>\n",
       "  <tbody>\n",
       "    <tr>\n",
       "      <th>0</th>\n",
       "      <td>0</td>\n",
       "      <td>0</td>\n",
       "      <td>0</td>\n",
       "      <td>0</td>\n",
       "      <td>0</td>\n",
       "      <td>0</td>\n",
       "      <td>0</td>\n",
       "      <td>0</td>\n",
       "      <td>0</td>\n",
       "      <td>0</td>\n",
       "      <td>0</td>\n",
       "      <td>0</td>\n",
       "      <td>1</td>\n",
       "      <td>0</td>\n",
       "      <td>0</td>\n",
       "      <td>0</td>\n",
       "    </tr>\n",
       "    <tr>\n",
       "      <th>1</th>\n",
       "      <td>0</td>\n",
       "      <td>0</td>\n",
       "      <td>0</td>\n",
       "      <td>0</td>\n",
       "      <td>0</td>\n",
       "      <td>1</td>\n",
       "      <td>0</td>\n",
       "      <td>0</td>\n",
       "      <td>0</td>\n",
       "      <td>0</td>\n",
       "      <td>0</td>\n",
       "      <td>0</td>\n",
       "      <td>0</td>\n",
       "      <td>0</td>\n",
       "      <td>0</td>\n",
       "      <td>0</td>\n",
       "    </tr>\n",
       "    <tr>\n",
       "      <th>2</th>\n",
       "      <td>0</td>\n",
       "      <td>0</td>\n",
       "      <td>0</td>\n",
       "      <td>0</td>\n",
       "      <td>0</td>\n",
       "      <td>0</td>\n",
       "      <td>0</td>\n",
       "      <td>0</td>\n",
       "      <td>0</td>\n",
       "      <td>0</td>\n",
       "      <td>0</td>\n",
       "      <td>0</td>\n",
       "      <td>1</td>\n",
       "      <td>0</td>\n",
       "      <td>0</td>\n",
       "      <td>0</td>\n",
       "    </tr>\n",
       "    <tr>\n",
       "      <th>3</th>\n",
       "      <td>0</td>\n",
       "      <td>0</td>\n",
       "      <td>0</td>\n",
       "      <td>0</td>\n",
       "      <td>0</td>\n",
       "      <td>0</td>\n",
       "      <td>0</td>\n",
       "      <td>0</td>\n",
       "      <td>1</td>\n",
       "      <td>0</td>\n",
       "      <td>0</td>\n",
       "      <td>0</td>\n",
       "      <td>0</td>\n",
       "      <td>0</td>\n",
       "      <td>0</td>\n",
       "      <td>0</td>\n",
       "    </tr>\n",
       "    <tr>\n",
       "      <th>4</th>\n",
       "      <td>1</td>\n",
       "      <td>0</td>\n",
       "      <td>0</td>\n",
       "      <td>0</td>\n",
       "      <td>0</td>\n",
       "      <td>0</td>\n",
       "      <td>0</td>\n",
       "      <td>0</td>\n",
       "      <td>0</td>\n",
       "      <td>0</td>\n",
       "      <td>0</td>\n",
       "      <td>0</td>\n",
       "      <td>0</td>\n",
       "      <td>0</td>\n",
       "      <td>0</td>\n",
       "      <td>0</td>\n",
       "    </tr>\n",
       "  </tbody>\n",
       "</table>\n",
       "</div>"
      ],
      "text/plain": [
       "   ENE  ESE  N  NE  NNE  NNW  NW  S  SE  SSE  SSW  SW  W  WNW  WSW  NaN\n",
       "0    0    0  0   0    0    0   0  0   0    0    0   0  1    0    0    0\n",
       "1    0    0  0   0    0    1   0  0   0    0    0   0  0    0    0    0\n",
       "2    0    0  0   0    0    0   0  0   0    0    0   0  1    0    0    0\n",
       "3    0    0  0   0    0    0   0  0   1    0    0   0  0    0    0    0\n",
       "4    1    0  0   0    0    0   0  0   0    0    0   0  0    0    0    0"
      ]
     },
     "execution_count": 143,
     "metadata": {},
     "output_type": "execute_result"
    }
   ],
   "source": [
    "pd.get_dummies(df.WindDir9am, drop_first=True, dummy_na=True).head()"
   ]
  },
  {
   "cell_type": "code",
   "execution_count": 144,
   "id": "0e959c75",
   "metadata": {},
   "outputs": [
    {
     "data": {
      "text/plain": [
       "ENE     7668\n",
       "ESE     7518\n",
       "N      11266\n",
       "NE      7477\n",
       "NNE     7877\n",
       "NNW     7782\n",
       "NW      8471\n",
       "S       8424\n",
       "SE      9116\n",
       "SSE     8901\n",
       "SSW     7397\n",
       "SW      8160\n",
       "W       8207\n",
       "WNW     7100\n",
       "WSW     6786\n",
       "NaN     9660\n",
       "dtype: int64"
      ]
     },
     "execution_count": 144,
     "metadata": {},
     "output_type": "execute_result"
    }
   ],
   "source": [
    "pd.get_dummies(df.WindDir9am, drop_first=True, dummy_na=True).sum(axis=0)"
   ]
  },
  {
   "cell_type": "code",
   "execution_count": 145,
   "id": "54681395",
   "metadata": {},
   "outputs": [
    {
     "name": "stdout",
     "output_type": "stream",
     "text": [
      "WindDir3pm contains 17 labels\n"
     ]
    }
   ],
   "source": [
    "#dilakukan hal yang sama untuk WindDir3pm\n",
    "print('WindDir3pm contains', len(df['WindDir3pm'].unique()), 'labels')"
   ]
  },
  {
   "cell_type": "code",
   "execution_count": 146,
   "id": "aaee97a8",
   "metadata": {},
   "outputs": [
    {
     "data": {
      "text/plain": [
       "array(['WNW', 'WSW', 'E', 'NW', 'W', 'SSE', 'ESE', 'ENE', 'NNW', 'SSW',\n",
       "       'SW', 'SE', 'N', 'S', 'NNE', nan, 'NE'], dtype=object)"
      ]
     },
     "execution_count": 146,
     "metadata": {},
     "output_type": "execute_result"
    }
   ],
   "source": [
    "df['WindDir3pm'].unique()"
   ]
  },
  {
   "cell_type": "code",
   "execution_count": 147,
   "id": "68792b4a",
   "metadata": {},
   "outputs": [
    {
     "data": {
      "text/plain": [
       "SE     10578\n",
       "W       9810\n",
       "S       9488\n",
       "WSW     9231\n",
       "SW      9104\n",
       "SSE     9038\n",
       "N       8593\n",
       "WNW     8564\n",
       "NW      8394\n",
       "ESE     8311\n",
       "E       8272\n",
       "NE      8107\n",
       "SSW     7945\n",
       "NNW     7664\n",
       "ENE     7645\n",
       "NNE     6373\n",
       "Name: WindDir3pm, dtype: int64"
      ]
     },
     "execution_count": 147,
     "metadata": {},
     "output_type": "execute_result"
    }
   ],
   "source": [
    "df['WindDir3pm'].value_counts()"
   ]
  },
  {
   "cell_type": "code",
   "execution_count": 148,
   "id": "dfd6c426",
   "metadata": {},
   "outputs": [
    {
     "data": {
      "text/html": [
       "<div>\n",
       "<style scoped>\n",
       "    .dataframe tbody tr th:only-of-type {\n",
       "        vertical-align: middle;\n",
       "    }\n",
       "\n",
       "    .dataframe tbody tr th {\n",
       "        vertical-align: top;\n",
       "    }\n",
       "\n",
       "    .dataframe thead th {\n",
       "        text-align: right;\n",
       "    }\n",
       "</style>\n",
       "<table border=\"1\" class=\"dataframe\">\n",
       "  <thead>\n",
       "    <tr style=\"text-align: right;\">\n",
       "      <th></th>\n",
       "      <th>ENE</th>\n",
       "      <th>ESE</th>\n",
       "      <th>N</th>\n",
       "      <th>NE</th>\n",
       "      <th>NNE</th>\n",
       "      <th>NNW</th>\n",
       "      <th>NW</th>\n",
       "      <th>S</th>\n",
       "      <th>SE</th>\n",
       "      <th>SSE</th>\n",
       "      <th>SSW</th>\n",
       "      <th>SW</th>\n",
       "      <th>W</th>\n",
       "      <th>WNW</th>\n",
       "      <th>WSW</th>\n",
       "      <th>NaN</th>\n",
       "    </tr>\n",
       "  </thead>\n",
       "  <tbody>\n",
       "    <tr>\n",
       "      <th>0</th>\n",
       "      <td>0</td>\n",
       "      <td>0</td>\n",
       "      <td>0</td>\n",
       "      <td>0</td>\n",
       "      <td>0</td>\n",
       "      <td>0</td>\n",
       "      <td>0</td>\n",
       "      <td>0</td>\n",
       "      <td>0</td>\n",
       "      <td>0</td>\n",
       "      <td>0</td>\n",
       "      <td>0</td>\n",
       "      <td>0</td>\n",
       "      <td>1</td>\n",
       "      <td>0</td>\n",
       "      <td>0</td>\n",
       "    </tr>\n",
       "    <tr>\n",
       "      <th>1</th>\n",
       "      <td>0</td>\n",
       "      <td>0</td>\n",
       "      <td>0</td>\n",
       "      <td>0</td>\n",
       "      <td>0</td>\n",
       "      <td>0</td>\n",
       "      <td>0</td>\n",
       "      <td>0</td>\n",
       "      <td>0</td>\n",
       "      <td>0</td>\n",
       "      <td>0</td>\n",
       "      <td>0</td>\n",
       "      <td>0</td>\n",
       "      <td>0</td>\n",
       "      <td>1</td>\n",
       "      <td>0</td>\n",
       "    </tr>\n",
       "    <tr>\n",
       "      <th>2</th>\n",
       "      <td>0</td>\n",
       "      <td>0</td>\n",
       "      <td>0</td>\n",
       "      <td>0</td>\n",
       "      <td>0</td>\n",
       "      <td>0</td>\n",
       "      <td>0</td>\n",
       "      <td>0</td>\n",
       "      <td>0</td>\n",
       "      <td>0</td>\n",
       "      <td>0</td>\n",
       "      <td>0</td>\n",
       "      <td>0</td>\n",
       "      <td>0</td>\n",
       "      <td>1</td>\n",
       "      <td>0</td>\n",
       "    </tr>\n",
       "    <tr>\n",
       "      <th>3</th>\n",
       "      <td>0</td>\n",
       "      <td>0</td>\n",
       "      <td>0</td>\n",
       "      <td>0</td>\n",
       "      <td>0</td>\n",
       "      <td>0</td>\n",
       "      <td>0</td>\n",
       "      <td>0</td>\n",
       "      <td>0</td>\n",
       "      <td>0</td>\n",
       "      <td>0</td>\n",
       "      <td>0</td>\n",
       "      <td>0</td>\n",
       "      <td>0</td>\n",
       "      <td>0</td>\n",
       "      <td>0</td>\n",
       "    </tr>\n",
       "    <tr>\n",
       "      <th>4</th>\n",
       "      <td>0</td>\n",
       "      <td>0</td>\n",
       "      <td>0</td>\n",
       "      <td>0</td>\n",
       "      <td>0</td>\n",
       "      <td>0</td>\n",
       "      <td>1</td>\n",
       "      <td>0</td>\n",
       "      <td>0</td>\n",
       "      <td>0</td>\n",
       "      <td>0</td>\n",
       "      <td>0</td>\n",
       "      <td>0</td>\n",
       "      <td>0</td>\n",
       "      <td>0</td>\n",
       "      <td>0</td>\n",
       "    </tr>\n",
       "  </tbody>\n",
       "</table>\n",
       "</div>"
      ],
      "text/plain": [
       "   ENE  ESE  N  NE  NNE  NNW  NW  S  SE  SSE  SSW  SW  W  WNW  WSW  NaN\n",
       "0    0    0  0   0    0    0   0  0   0    0    0   0  0    1    0    0\n",
       "1    0    0  0   0    0    0   0  0   0    0    0   0  0    0    1    0\n",
       "2    0    0  0   0    0    0   0  0   0    0    0   0  0    0    1    0\n",
       "3    0    0  0   0    0    0   0  0   0    0    0   0  0    0    0    0\n",
       "4    0    0  0   0    0    0   1  0   0    0    0   0  0    0    0    0"
      ]
     },
     "execution_count": 148,
     "metadata": {},
     "output_type": "execute_result"
    }
   ],
   "source": [
    "pd.get_dummies(df.WindDir3pm, drop_first=True, dummy_na=True).head()"
   ]
  },
  {
   "cell_type": "code",
   "execution_count": 149,
   "id": "cb3a1ea4",
   "metadata": {},
   "outputs": [
    {
     "data": {
      "text/plain": [
       "ENE     7645\n",
       "ESE     8311\n",
       "N       8593\n",
       "NE      8107\n",
       "NNE     6373\n",
       "NNW     7664\n",
       "NW      8394\n",
       "S       9488\n",
       "SE     10578\n",
       "SSE     9038\n",
       "SSW     7945\n",
       "SW      9104\n",
       "W       9810\n",
       "WNW     8564\n",
       "WSW     9231\n",
       "NaN     3670\n",
       "dtype: int64"
      ]
     },
     "execution_count": 149,
     "metadata": {},
     "output_type": "execute_result"
    }
   ],
   "source": [
    "pd.get_dummies(df.WindDir3pm, drop_first=True, dummy_na=True).sum(axis=0)"
   ]
  },
  {
   "cell_type": "code",
   "execution_count": 150,
   "id": "c924e27a",
   "metadata": {},
   "outputs": [
    {
     "name": "stdout",
     "output_type": "stream",
     "text": [
      "RainToday contains 2 labels\n"
     ]
    }
   ],
   "source": [
    "print('RainToday contains', len(df['RainToday'].unique()), 'labels')"
   ]
  },
  {
   "cell_type": "code",
   "execution_count": 151,
   "id": "0c4cf94c",
   "metadata": {},
   "outputs": [
    {
     "name": "stdout",
     "output_type": "stream",
     "text": [
      "There are 19 numerical variables\n",
      "\n",
      "The numerical variables are : ['MinTemp', 'MaxTemp', 'Rainfall', 'Evaporation', 'Sunshine', 'WindGustSpeed', 'WindSpeed9am', 'WindSpeed3pm', 'Humidity9am', 'Humidity3pm', 'Pressure9am', 'Pressure3pm', 'Cloud9am', 'Cloud3pm', 'Temp9am', 'Temp3pm', 'Year', 'Month', 'Day']\n"
     ]
    }
   ],
   "source": [
    "#mencari tahu berapa banyak kolom numerik\n",
    "numerical = [var for var in df.columns if df[var].dtype!='O']\n",
    "\n",
    "print('There are {} numerical variables\\n'.format(len(numerical)))\n",
    "\n",
    "print('The numerical variables are :', numerical)"
   ]
  },
  {
   "cell_type": "code",
   "execution_count": 152,
   "id": "9c77f790",
   "metadata": {},
   "outputs": [
    {
     "data": {
      "text/html": [
       "<div>\n",
       "<style scoped>\n",
       "    .dataframe tbody tr th:only-of-type {\n",
       "        vertical-align: middle;\n",
       "    }\n",
       "\n",
       "    .dataframe tbody tr th {\n",
       "        vertical-align: top;\n",
       "    }\n",
       "\n",
       "    .dataframe thead th {\n",
       "        text-align: right;\n",
       "    }\n",
       "</style>\n",
       "<table border=\"1\" class=\"dataframe\">\n",
       "  <thead>\n",
       "    <tr style=\"text-align: right;\">\n",
       "      <th></th>\n",
       "      <th>MinTemp</th>\n",
       "      <th>MaxTemp</th>\n",
       "      <th>Rainfall</th>\n",
       "      <th>Evaporation</th>\n",
       "      <th>Sunshine</th>\n",
       "      <th>WindGustSpeed</th>\n",
       "      <th>WindSpeed9am</th>\n",
       "      <th>WindSpeed3pm</th>\n",
       "      <th>Humidity9am</th>\n",
       "      <th>Humidity3pm</th>\n",
       "      <th>Pressure9am</th>\n",
       "      <th>Pressure3pm</th>\n",
       "      <th>Cloud9am</th>\n",
       "      <th>Cloud3pm</th>\n",
       "      <th>Temp9am</th>\n",
       "      <th>Temp3pm</th>\n",
       "      <th>Year</th>\n",
       "      <th>Month</th>\n",
       "      <th>Day</th>\n",
       "    </tr>\n",
       "  </thead>\n",
       "  <tbody>\n",
       "    <tr>\n",
       "      <th>0</th>\n",
       "      <td>13.4</td>\n",
       "      <td>22.9</td>\n",
       "      <td>0.6</td>\n",
       "      <td>NaN</td>\n",
       "      <td>NaN</td>\n",
       "      <td>44.0</td>\n",
       "      <td>20.0</td>\n",
       "      <td>24.0</td>\n",
       "      <td>71.0</td>\n",
       "      <td>22.0</td>\n",
       "      <td>1007.7</td>\n",
       "      <td>1007.1</td>\n",
       "      <td>8.0</td>\n",
       "      <td>NaN</td>\n",
       "      <td>16.9</td>\n",
       "      <td>21.8</td>\n",
       "      <td>2008</td>\n",
       "      <td>12</td>\n",
       "      <td>1</td>\n",
       "    </tr>\n",
       "    <tr>\n",
       "      <th>1</th>\n",
       "      <td>7.4</td>\n",
       "      <td>25.1</td>\n",
       "      <td>0.0</td>\n",
       "      <td>NaN</td>\n",
       "      <td>NaN</td>\n",
       "      <td>44.0</td>\n",
       "      <td>4.0</td>\n",
       "      <td>22.0</td>\n",
       "      <td>44.0</td>\n",
       "      <td>25.0</td>\n",
       "      <td>1010.6</td>\n",
       "      <td>1007.8</td>\n",
       "      <td>NaN</td>\n",
       "      <td>NaN</td>\n",
       "      <td>17.2</td>\n",
       "      <td>24.3</td>\n",
       "      <td>2008</td>\n",
       "      <td>12</td>\n",
       "      <td>2</td>\n",
       "    </tr>\n",
       "    <tr>\n",
       "      <th>2</th>\n",
       "      <td>12.9</td>\n",
       "      <td>25.7</td>\n",
       "      <td>0.0</td>\n",
       "      <td>NaN</td>\n",
       "      <td>NaN</td>\n",
       "      <td>46.0</td>\n",
       "      <td>19.0</td>\n",
       "      <td>26.0</td>\n",
       "      <td>38.0</td>\n",
       "      <td>30.0</td>\n",
       "      <td>1007.6</td>\n",
       "      <td>1008.7</td>\n",
       "      <td>NaN</td>\n",
       "      <td>2.0</td>\n",
       "      <td>21.0</td>\n",
       "      <td>23.2</td>\n",
       "      <td>2008</td>\n",
       "      <td>12</td>\n",
       "      <td>3</td>\n",
       "    </tr>\n",
       "    <tr>\n",
       "      <th>3</th>\n",
       "      <td>9.2</td>\n",
       "      <td>28.0</td>\n",
       "      <td>0.0</td>\n",
       "      <td>NaN</td>\n",
       "      <td>NaN</td>\n",
       "      <td>24.0</td>\n",
       "      <td>11.0</td>\n",
       "      <td>9.0</td>\n",
       "      <td>45.0</td>\n",
       "      <td>16.0</td>\n",
       "      <td>1017.6</td>\n",
       "      <td>1012.8</td>\n",
       "      <td>NaN</td>\n",
       "      <td>NaN</td>\n",
       "      <td>18.1</td>\n",
       "      <td>26.5</td>\n",
       "      <td>2008</td>\n",
       "      <td>12</td>\n",
       "      <td>4</td>\n",
       "    </tr>\n",
       "    <tr>\n",
       "      <th>4</th>\n",
       "      <td>17.5</td>\n",
       "      <td>32.3</td>\n",
       "      <td>1.0</td>\n",
       "      <td>NaN</td>\n",
       "      <td>NaN</td>\n",
       "      <td>41.0</td>\n",
       "      <td>7.0</td>\n",
       "      <td>20.0</td>\n",
       "      <td>82.0</td>\n",
       "      <td>33.0</td>\n",
       "      <td>1010.8</td>\n",
       "      <td>1006.0</td>\n",
       "      <td>7.0</td>\n",
       "      <td>8.0</td>\n",
       "      <td>17.8</td>\n",
       "      <td>29.7</td>\n",
       "      <td>2008</td>\n",
       "      <td>12</td>\n",
       "      <td>5</td>\n",
       "    </tr>\n",
       "  </tbody>\n",
       "</table>\n",
       "</div>"
      ],
      "text/plain": [
       "   MinTemp  MaxTemp  Rainfall  Evaporation  Sunshine  WindGustSpeed  \\\n",
       "0     13.4     22.9       0.6          NaN       NaN           44.0   \n",
       "1      7.4     25.1       0.0          NaN       NaN           44.0   \n",
       "2     12.9     25.7       0.0          NaN       NaN           46.0   \n",
       "3      9.2     28.0       0.0          NaN       NaN           24.0   \n",
       "4     17.5     32.3       1.0          NaN       NaN           41.0   \n",
       "\n",
       "   WindSpeed9am  WindSpeed3pm  Humidity9am  Humidity3pm  Pressure9am  \\\n",
       "0          20.0          24.0         71.0         22.0       1007.7   \n",
       "1           4.0          22.0         44.0         25.0       1010.6   \n",
       "2          19.0          26.0         38.0         30.0       1007.6   \n",
       "3          11.0           9.0         45.0         16.0       1017.6   \n",
       "4           7.0          20.0         82.0         33.0       1010.8   \n",
       "\n",
       "   Pressure3pm  Cloud9am  Cloud3pm  Temp9am  Temp3pm  Year  Month  Day  \n",
       "0       1007.1       8.0       NaN     16.9     21.8  2008     12    1  \n",
       "1       1007.8       NaN       NaN     17.2     24.3  2008     12    2  \n",
       "2       1008.7       NaN       2.0     21.0     23.2  2008     12    3  \n",
       "3       1012.8       NaN       NaN     18.1     26.5  2008     12    4  \n",
       "4       1006.0       7.0       8.0     17.8     29.7  2008     12    5  "
      ]
     },
     "execution_count": 152,
     "metadata": {},
     "output_type": "execute_result"
    }
   ],
   "source": [
    "df[numerical].head()"
   ]
  },
  {
   "cell_type": "code",
   "execution_count": 153,
   "id": "8d33cb8a",
   "metadata": {},
   "outputs": [
    {
     "data": {
      "text/plain": [
       "MinTemp            468\n",
       "MaxTemp            307\n",
       "Rainfall             0\n",
       "Evaporation      59694\n",
       "Sunshine         66805\n",
       "WindGustSpeed     9105\n",
       "WindSpeed9am      1055\n",
       "WindSpeed3pm      2531\n",
       "Humidity9am       1517\n",
       "Humidity3pm       3501\n",
       "Pressure9am      13743\n",
       "Pressure3pm      13769\n",
       "Cloud9am         52625\n",
       "Cloud3pm         56094\n",
       "Temp9am            656\n",
       "Temp3pm           2624\n",
       "Year                 0\n",
       "Month                0\n",
       "Day                  0\n",
       "dtype: int64"
      ]
     },
     "execution_count": 153,
     "metadata": {},
     "output_type": "execute_result"
    }
   ],
   "source": [
    "#mencari tahu missing values dari tiap kolom numerik\n",
    "df[numerical].isnull().sum()"
   ]
  },
  {
   "cell_type": "code",
   "execution_count": 154,
   "id": "a22663bf",
   "metadata": {},
   "outputs": [
    {
     "name": "stdout",
     "output_type": "stream",
     "text": [
      "        MinTemp   MaxTemp  Rainfall  Evaporation  Sunshine  WindGustSpeed  \\\n",
      "count  140319.0  140480.0  140787.0      81093.0   73982.0       131682.0   \n",
      "mean       12.0      23.0       2.0          5.0       8.0           40.0   \n",
      "std         6.0       7.0       8.0          4.0       4.0           14.0   \n",
      "min        -8.0      -5.0       0.0          0.0       0.0            6.0   \n",
      "25%         8.0      18.0       0.0          3.0       5.0           31.0   \n",
      "50%        12.0      23.0       0.0          5.0       8.0           39.0   \n",
      "75%        17.0      28.0       1.0          7.0      11.0           48.0   \n",
      "max        34.0      48.0     371.0        145.0      14.0          135.0   \n",
      "\n",
      "       WindSpeed9am  WindSpeed3pm  Humidity9am  Humidity3pm  Pressure9am  \\\n",
      "count      139732.0      138256.0     139270.0     137286.0     127044.0   \n",
      "mean           14.0          19.0         69.0         51.0       1018.0   \n",
      "std             9.0           9.0         19.0         21.0          7.0   \n",
      "min             0.0           0.0          0.0          0.0        980.0   \n",
      "25%             7.0          13.0         57.0         37.0       1013.0   \n",
      "50%            13.0          19.0         70.0         52.0       1018.0   \n",
      "75%            19.0          24.0         83.0         66.0       1022.0   \n",
      "max           130.0          87.0        100.0        100.0       1041.0   \n",
      "\n",
      "       Pressure3pm  Cloud9am  Cloud3pm   Temp9am   Temp3pm      Year  \\\n",
      "count     127018.0   88162.0   84693.0  140131.0  138163.0  140787.0   \n",
      "mean        1015.0       4.0       4.0      17.0      22.0    2013.0   \n",
      "std            7.0       3.0       3.0       6.0       7.0       3.0   \n",
      "min          977.0       0.0       0.0      -7.0      -5.0    2007.0   \n",
      "25%         1010.0       1.0       2.0      12.0      17.0    2011.0   \n",
      "50%         1015.0       5.0       5.0      17.0      21.0    2013.0   \n",
      "75%         1020.0       7.0       7.0      22.0      26.0    2015.0   \n",
      "max         1040.0       9.0       9.0      40.0      47.0    2017.0   \n",
      "\n",
      "          Month       Day  \n",
      "count  140787.0  140787.0  \n",
      "mean        6.0      16.0  \n",
      "std         3.0       9.0  \n",
      "min         1.0       1.0  \n",
      "25%         3.0       8.0  \n",
      "50%         6.0      16.0  \n",
      "75%         9.0      23.0  \n",
      "max        12.0      31.0   2\n"
     ]
    }
   ],
   "source": [
    "#data statistik dari tiap kolom numerik\n",
    "print(round(df[numerical].describe()),2)"
   ]
  },
  {
   "cell_type": "code",
   "execution_count": 155,
   "id": "3fc1ce0f",
   "metadata": {},
   "outputs": [
    {
     "data": {
      "text/plain": [
       "Text(0, 0.5, 'WindSpeed3pm')"
      ]
     },
     "execution_count": 155,
     "metadata": {},
     "output_type": "execute_result"
    },
    {
     "data": {
      "image/png": "[encoded data removed]",
      "text/plain": [
       "<Figure size 1500x1000 with 4 Axes>"
      ]
     },
     "metadata": {},
     "output_type": "display_data"
    }
   ],
   "source": [
    "#dari data di atas, kolom Rainfall, Evaporation, WindSpeed9am, WindSpeed3pm terindikasi ada outlier\n",
    "#membuat boxplot untuk memvisualisasikan kemungkinan outlier\n",
    "import matplotlib.pyplot as plt\n",
    "plt.figure(figsize=(15,10))\n",
    "\n",
    "\n",
    "plt.subplot(2, 2, 1)\n",
    "fig = df.boxplot(column='Rainfall')\n",
    "fig.set_title('')\n",
    "fig.set_ylabel('Rainfall')\n",
    "\n",
    "\n",
    "plt.subplot(2, 2, 2)\n",
    "fig = df.boxplot(column='Evaporation')\n",
    "fig.set_title('')\n",
    "fig.set_ylabel('Evaporation')\n",
    "\n",
    "plt.subplot(2, 2, 3)\n",
    "fig = df.boxplot(column='WindSpeed9am')\n",
    "fig.set_title('')\n",
    "fig.set_ylabel('WindSpeed9am')\n",
    "\n",
    "\n",
    "plt.subplot(2, 2, 4)\n",
    "fig = df.boxplot(column='WindSpeed3pm')\n",
    "fig.set_title('')\n",
    "fig.set_ylabel('WindSpeed3pm')"
   ]
  },
  {
   "cell_type": "code",
   "execution_count": 156,
   "id": "d76fe5a0",
   "metadata": {},
   "outputs": [
    {
     "data": {
      "text/plain": [
       "Text(0, 0.5, 'RainTomorrow')"
      ]
     },
     "execution_count": 156,
     "metadata": {},
     "output_type": "execute_result"
    },
    {
     "data": {
      "image/png": "[encoded data removed]",
      "text/plain": [
       "<Figure size 1500x1000 with 4 Axes>"
      ]
     },
     "metadata": {},
     "output_type": "display_data"
    }
   ],
   "source": [
    "#dari boxplot di atas, terbukti adanya outlier\n",
    "#mengecek distribusinya dengan histogram\n",
    "plt.figure(figsize=(15,10))\n",
    "\n",
    "\n",
    "plt.subplot(2, 2, 1)\n",
    "fig = df.Rainfall.hist(bins=10)\n",
    "fig.set_xlabel('Rainfall')\n",
    "fig.set_ylabel('RainTomorrow')\n",
    "\n",
    "\n",
    "plt.subplot(2, 2, 2)\n",
    "fig = df.Evaporation.hist(bins=10)\n",
    "fig.set_xlabel('Evaporation')\n",
    "fig.set_ylabel('RainTomorrow')\n",
    "\n",
    "plt.subplot(2, 2, 3)\n",
    "fig = df.WindSpeed9am.hist(bins=10)\n",
    "fig.set_xlabel('WindSpeed9am')\n",
    "fig.set_ylabel('RainTomorrow')\n",
    "\n",
    "\n",
    "plt.subplot(2, 2, 4)\n",
    "fig = df.WindSpeed3pm.hist(bins=10)\n",
    "fig.set_xlabel('WindSpeed3pm')\n",
    "fig.set_ylabel('RainTomorrow')"
   ]
  },
  {
   "cell_type": "code",
   "execution_count": 157,
   "id": "19caef42",
   "metadata": {},
   "outputs": [
    {
     "name": "stdout",
     "output_type": "stream",
     "text": [
      "Rainfall outliers are values < -2.4000000000000004 or > 3.2\n"
     ]
    }
   ],
   "source": [
    "#karena semua histogramnya positive skewed, diaplikasikan interquantile untuk mencari outliers\n",
    "#di Rainfall\n",
    "IQR = df.Rainfall.quantile(0.75) - df.Rainfall.quantile(0.25)\n",
    "Lower_fence = df.Rainfall.quantile(0.25) - (IQR * 3)\n",
    "Upper_fence = df.Rainfall.quantile(0.75) + (IQR * 3)\n",
    "print('Rainfall outliers are values < {lowerboundary} or > {upperboundary}'.format(lowerboundary=Lower_fence, upperboundary=Upper_fence))"
   ]
  },
  {
   "cell_type": "code",
   "execution_count": 158,
   "id": "51bfdc5d",
   "metadata": {},
   "outputs": [
    {
     "name": "stdout",
     "output_type": "stream",
     "text": [
      "Evaporation outliers are values < -11.800000000000002 or > 21.800000000000004\n"
     ]
    }
   ],
   "source": [
    "#di Evaporation\n",
    "IQR = df.Evaporation.quantile(0.75) - df.Evaporation.quantile(0.25)\n",
    "Lower_fence = df.Evaporation.quantile(0.25) - (IQR * 3)\n",
    "Upper_fence = df.Evaporation.quantile(0.75) + (IQR * 3)\n",
    "print('Evaporation outliers are values < {lowerboundary} or > {upperboundary}'.format(lowerboundary=Lower_fence, upperboundary=Upper_fence))"
   ]
  },
  {
   "cell_type": "code",
   "execution_count": 159,
   "id": "ec08d1de",
   "metadata": {},
   "outputs": [
    {
     "name": "stdout",
     "output_type": "stream",
     "text": [
      "WindSpeed9am outliers are values < -29.0 or > 55.0\n"
     ]
    }
   ],
   "source": [
    "#di WindSpeed9am\n",
    "IQR = df.WindSpeed9am.quantile(0.75) - df.WindSpeed9am.quantile(0.25)\n",
    "Lower_fence = df.WindSpeed9am.quantile(0.25) - (IQR * 3)\n",
    "Upper_fence = df.WindSpeed9am.quantile(0.75) + (IQR * 3)\n",
    "print('WindSpeed9am outliers are values < {lowerboundary} or > {upperboundary}'.format(lowerboundary=Lower_fence, upperboundary=Upper_fence))"
   ]
  },
  {
   "cell_type": "code",
   "execution_count": 160,
   "id": "f44ea7cf",
   "metadata": {},
   "outputs": [
    {
     "name": "stdout",
     "output_type": "stream",
     "text": [
      "WindSpeed3pm outliers are values < -20.0 or > 57.0\n"
     ]
    }
   ],
   "source": [
    "#di WindSpeed3pm\n",
    "IQR = df.WindSpeed3pm.quantile(0.75) - df.WindSpeed3pm.quantile(0.25)\n",
    "Lower_fence = df.WindSpeed3pm.quantile(0.25) - (IQR * 3)\n",
    "Upper_fence = df.WindSpeed3pm.quantile(0.75) + (IQR * 3)\n",
    "print('WindSpeed3pm outliers are values < {lowerboundary} or > {upperboundary}'.format(lowerboundary=Lower_fence, upperboundary=Upper_fence))"
   ]
  },
  {
   "cell_type": "code",
   "execution_count": 161,
   "id": "97db4b87",
   "metadata": {},
   "outputs": [],
   "source": [
    "df.dropna(inplace=True)"
   ]
  },
  {
   "cell_type": "code",
   "execution_count": 162,
   "id": "6d815ba3",
   "metadata": {},
   "outputs": [],
   "source": [
    "X = df.drop(['RainTomorrow'], axis=1)\n",
    "y = df['RainTomorrow']"
   ]
  },
  {
   "cell_type": "code",
   "execution_count": 163,
   "id": "7a7831be",
   "metadata": {},
   "outputs": [
    {
     "data": {
      "text/plain": [
       "6049      No\n",
       "6050      No\n",
       "6052      No\n",
       "6053      No\n",
       "6054      No\n",
       "          ..\n",
       "142298    No\n",
       "142299    No\n",
       "142300    No\n",
       "142301    No\n",
       "142302    No\n",
       "Name: RainTomorrow, Length: 56420, dtype: object"
      ]
     },
     "execution_count": 163,
     "metadata": {},
     "output_type": "execute_result"
    }
   ],
   "source": [
    "y"
   ]
  },
  {
   "cell_type": "markdown",
   "id": "326b7e7b",
   "metadata": {},
   "source": [
    "# Split data"
   ]
  },
  {
   "cell_type": "code",
   "execution_count": 164,
   "id": "16496075",
   "metadata": {},
   "outputs": [],
   "source": [
    "#Split data menjadi dua, 70% training, 30% testing\n",
    "from sklearn.model_selection import train_test_split\n",
    "\n",
    "X_train, X_test, y_train, y_test = train_test_split(X, y, test_size = 0.3, random_state = 0)"
   ]
  },
  {
   "cell_type": "code",
   "execution_count": 165,
   "id": "696c433e",
   "metadata": {},
   "outputs": [
    {
     "data": {
      "text/plain": [
       "((39494, 24), (16926, 24))"
      ]
     },
     "execution_count": 165,
     "metadata": {},
     "output_type": "execute_result"
    }
   ],
   "source": [
    "#banyaknya data training dan testing\n",
    "X_train.shape, X_test.shape"
   ]
  },
  {
   "cell_type": "code",
   "execution_count": 166,
   "id": "07c8a95c",
   "metadata": {},
   "outputs": [
    {
     "data": {
      "text/plain": [
       "MinTemp          0\n",
       "MaxTemp          0\n",
       "Rainfall         0\n",
       "Evaporation      0\n",
       "Sunshine         0\n",
       "WindGustSpeed    0\n",
       "WindSpeed9am     0\n",
       "WindSpeed3pm     0\n",
       "Humidity9am      0\n",
       "Humidity3pm      0\n",
       "Pressure9am      0\n",
       "Pressure3pm      0\n",
       "Cloud9am         0\n",
       "Cloud3pm         0\n",
       "Temp9am          0\n",
       "Temp3pm          0\n",
       "Year             0\n",
       "Month            0\n",
       "Day              0\n",
       "dtype: int64"
      ]
     },
     "execution_count": 166,
     "metadata": {},
     "output_type": "execute_result"
    }
   ],
   "source": [
    "#memastikan tidak ada missing values\n",
    "X_train[numerical].isnull().sum()"
   ]
  },
  {
   "cell_type": "code",
   "execution_count": 167,
   "id": "5eae1ce0",
   "metadata": {},
   "outputs": [
    {
     "data": {
      "text/plain": [
       "MinTemp          0\n",
       "MaxTemp          0\n",
       "Rainfall         0\n",
       "Evaporation      0\n",
       "Sunshine         0\n",
       "WindGustSpeed    0\n",
       "WindSpeed9am     0\n",
       "WindSpeed3pm     0\n",
       "Humidity9am      0\n",
       "Humidity3pm      0\n",
       "Pressure9am      0\n",
       "Pressure3pm      0\n",
       "Cloud9am         0\n",
       "Cloud3pm         0\n",
       "Temp9am          0\n",
       "Temp3pm          0\n",
       "Year             0\n",
       "Month            0\n",
       "Day              0\n",
       "dtype: int64"
      ]
     },
     "execution_count": 167,
     "metadata": {},
     "output_type": "execute_result"
    }
   ],
   "source": [
    "#memastikan tidak ada missing values\n",
    "X_test[numerical].isnull().sum()"
   ]
  },
  {
   "cell_type": "code",
   "execution_count": 169,
   "id": "cc45b62c",
   "metadata": {},
   "outputs": [],
   "source": [
    "#mengisi missing values dengan hasil yang didapatkan tadi dari IQR\n",
    "def max_value(df3, variable, top):\n",
    "    return np.where(df3[variable]>top, top, df3[variable])\n",
    "\n",
    "for df3 in [X_train, X_test]:\n",
    "    df3['Rainfall'] = max_value(df3, 'Rainfall', 3.2)\n",
    "    df3['Evaporation'] = max_value(df3, 'Evaporation', 21.8)\n",
    "    df3['WindSpeed9am'] = max_value(df3, 'WindSpeed9am', 55)\n",
    "    df3['WindSpeed3pm'] = max_value(df3, 'WindSpeed3pm', 57)"
   ]
  },
  {
   "cell_type": "code",
   "execution_count": 170,
   "id": "fe787db2",
   "metadata": {},
   "outputs": [
    {
     "data": {
      "text/plain": [
       "(3.2, 3.2)"
      ]
     },
     "execution_count": 170,
     "metadata": {},
     "output_type": "execute_result"
    }
   ],
   "source": [
    "X_train.Rainfall.max(), X_test.Rainfall.max()"
   ]
  },
  {
   "cell_type": "code",
   "execution_count": 171,
   "id": "ead81cc3",
   "metadata": {},
   "outputs": [
    {
     "data": {
      "text/plain": [
       "(21.8, 21.8)"
      ]
     },
     "execution_count": 171,
     "metadata": {},
     "output_type": "execute_result"
    }
   ],
   "source": [
    "X_train.Evaporation.max(), X_test.Evaporation.max()"
   ]
  },
  {
   "cell_type": "code",
   "execution_count": 172,
   "id": "d832dc4e",
   "metadata": {},
   "outputs": [
    {
     "data": {
      "text/plain": [
       "(55.0, 55.0)"
      ]
     },
     "execution_count": 172,
     "metadata": {},
     "output_type": "execute_result"
    }
   ],
   "source": [
    "X_train.WindSpeed9am.max(), X_test.WindSpeed9am.max()"
   ]
  },
  {
   "cell_type": "code",
   "execution_count": 173,
   "id": "5d05d82a",
   "metadata": {},
   "outputs": [
    {
     "data": {
      "text/plain": [
       "(57.0, 57.0)"
      ]
     },
     "execution_count": 173,
     "metadata": {},
     "output_type": "execute_result"
    }
   ],
   "source": [
    "X_train.WindSpeed3pm.max(), X_test.WindSpeed3pm.max()"
   ]
  },
  {
   "cell_type": "code",
   "execution_count": 174,
   "id": "41f75f4d",
   "metadata": {},
   "outputs": [
    {
     "name": "stdout",
     "output_type": "stream",
     "text": [
      "Defaulting to user installation because normal site-packages is not writeableNote: you may need to restart the kernel to use updated packages.\n",
      "\n",
      "Requirement already satisfied: category_encoders in c:\\users\\shafa\\appdata\\roaming\\python\\python311\\site-packages (2.6.3)\n",
      "Requirement already satisfied: numpy>=1.14.0 in c:\\programdata\\anaconda3\\lib\\site-packages (from category_encoders) (1.24.3)\n",
      "Requirement already satisfied: scikit-learn>=0.20.0 in c:\\programdata\\anaconda3\\lib\\site-packages (from category_encoders) (1.3.0)\n",
      "Requirement already satisfied: scipy>=1.0.0 in c:\\programdata\\anaconda3\\lib\\site-packages (from category_encoders) (1.10.1)\n",
      "Requirement already satisfied: statsmodels>=0.9.0 in c:\\programdata\\anaconda3\\lib\\site-packages (from category_encoders) (0.14.0)\n",
      "Requirement already satisfied: pandas>=1.0.5 in c:\\programdata\\anaconda3\\lib\\site-packages (from category_encoders) (1.5.3)\n",
      "Requirement already satisfied: patsy>=0.5.1 in c:\\programdata\\anaconda3\\lib\\site-packages (from category_encoders) (0.5.3)\n",
      "Requirement already satisfied: python-dateutil>=2.8.1 in c:\\programdata\\anaconda3\\lib\\site-packages (from pandas>=1.0.5->category_encoders) (2.8.2)\n",
      "Requirement already satisfied: pytz>=2020.1 in c:\\programdata\\anaconda3\\lib\\site-packages (from pandas>=1.0.5->category_encoders) (2022.7)\n",
      "Requirement already satisfied: six in c:\\programdata\\anaconda3\\lib\\site-packages (from patsy>=0.5.1->category_encoders) (1.16.0)\n",
      "Requirement already satisfied: joblib>=1.1.1 in c:\\programdata\\anaconda3\\lib\\site-packages (from scikit-learn>=0.20.0->category_encoders) (1.2.0)\n",
      "Requirement already satisfied: threadpoolctl>=2.0.0 in c:\\programdata\\anaconda3\\lib\\site-packages (from scikit-learn>=0.20.0->category_encoders) (2.2.0)\n",
      "Requirement already satisfied: packaging>=21.3 in c:\\programdata\\anaconda3\\lib\\site-packages (from statsmodels>=0.9.0->category_encoders) (23.0)\n"
     ]
    }
   ],
   "source": [
    "#download library untuk melabelkan data yang ada di RainToday dan RaunTimorrow\n",
    "pip install category_encoders"
   ]
  },
  {
   "cell_type": "code",
   "execution_count": 175,
   "id": "aac00543",
   "metadata": {},
   "outputs": [],
   "source": [
    "#dibuat 2 kolom baru RainToday_0 dan RainToday_1\n",
    "import category_encoders as ce\n",
    "\n",
    "encoder = ce.BinaryEncoder(cols=['RainToday'])\n",
    "\n",
    "X_train = encoder.fit_transform(X_train)\n",
    "\n",
    "X_test = encoder.transform(X_test)"
   ]
  },
  {
   "cell_type": "code",
   "execution_count": 176,
   "id": "9ffff13e",
   "metadata": {},
   "outputs": [],
   "source": [
    "#membuat dataset training X_train\n",
    "X_train = pd.concat([X_train[numerical], X_train[['RainToday_0', 'RainToday_1']],\n",
    "                     pd.get_dummies(X_train.Location), \n",
    "                     pd.get_dummies(X_train.WindGustDir),\n",
    "                     pd.get_dummies(X_train.WindDir9am),\n",
    "                     pd.get_dummies(X_train.WindDir3pm)], axis=1)"
   ]
  },
  {
   "cell_type": "code",
   "execution_count": 177,
   "id": "527d1e9f",
   "metadata": {},
   "outputs": [],
   "source": [
    "#membuat dataset testing X_test\n",
    "X_test = pd.concat([X_test[numerical], X_test[['RainToday_0', 'RainToday_1']],\n",
    "                     pd.get_dummies(X_test.Location), \n",
    "                     pd.get_dummies(X_test.WindGustDir),\n",
    "                     pd.get_dummies(X_test.WindDir9am),\n",
    "                     pd.get_dummies(X_test.WindDir3pm)], axis=1)"
   ]
  },
  {
   "cell_type": "code",
   "execution_count": 178,
   "id": "edc14219",
   "metadata": {},
   "outputs": [],
   "source": [
    "cols = X_train.columns"
   ]
  },
  {
   "cell_type": "code",
   "execution_count": 179,
   "id": "c2d811e3",
   "metadata": {},
   "outputs": [],
   "source": [
    "from sklearn.preprocessing import MinMaxScaler\n",
    "\n",
    "scaler = MinMaxScaler()\n",
    "\n",
    "X_train = scaler.fit_transform(X_train)\n",
    "\n",
    "X_test = scaler.transform(X_test)"
   ]
  },
  {
   "cell_type": "code",
   "execution_count": 180,
   "id": "45cb2421",
   "metadata": {},
   "outputs": [],
   "source": [
    "X_train = pd.DataFrame(X_train, columns=[cols])"
   ]
  },
  {
   "cell_type": "code",
   "execution_count": 181,
   "id": "9d019e28",
   "metadata": {},
   "outputs": [],
   "source": [
    "X_test = pd.DataFrame(X_test, columns=[cols])"
   ]
  },
  {
   "cell_type": "code",
   "execution_count": 182,
   "id": "0f78471c",
   "metadata": {},
   "outputs": [
    {
     "data": {
      "text/html": [
       "<div>\n",
       "<style scoped>\n",
       "    .dataframe tbody tr th:only-of-type {\n",
       "        vertical-align: middle;\n",
       "    }\n",
       "\n",
       "    .dataframe tbody tr th {\n",
       "        vertical-align: top;\n",
       "    }\n",
       "\n",
       "    .dataframe thead tr th {\n",
       "        text-align: left;\n",
       "    }\n",
       "</style>\n",
       "<table border=\"1\" class=\"dataframe\">\n",
       "  <thead>\n",
       "    <tr>\n",
       "      <th></th>\n",
       "      <th>MinTemp</th>\n",
       "      <th>MaxTemp</th>\n",
       "      <th>Rainfall</th>\n",
       "      <th>Evaporation</th>\n",
       "      <th>Sunshine</th>\n",
       "      <th>WindGustSpeed</th>\n",
       "      <th>WindSpeed9am</th>\n",
       "      <th>WindSpeed3pm</th>\n",
       "      <th>Humidity9am</th>\n",
       "      <th>Humidity3pm</th>\n",
       "      <th>...</th>\n",
       "      <th>NNW</th>\n",
       "      <th>NW</th>\n",
       "      <th>S</th>\n",
       "      <th>SE</th>\n",
       "      <th>SSE</th>\n",
       "      <th>SSW</th>\n",
       "      <th>SW</th>\n",
       "      <th>W</th>\n",
       "      <th>WNW</th>\n",
       "      <th>WSW</th>\n",
       "    </tr>\n",
       "  </thead>\n",
       "  <tbody>\n",
       "    <tr>\n",
       "      <th>count</th>\n",
       "      <td>39494.000000</td>\n",
       "      <td>39494.000000</td>\n",
       "      <td>39494.000000</td>\n",
       "      <td>39494.000000</td>\n",
       "      <td>39494.000000</td>\n",
       "      <td>39494.000000</td>\n",
       "      <td>39494.000000</td>\n",
       "      <td>39494.000000</td>\n",
       "      <td>39494.000000</td>\n",
       "      <td>39494.000000</td>\n",
       "      <td>...</td>\n",
       "      <td>39494.000000</td>\n",
       "      <td>39494.000000</td>\n",
       "      <td>39494.000000</td>\n",
       "      <td>39494.000000</td>\n",
       "      <td>39494.000000</td>\n",
       "      <td>39494.000000</td>\n",
       "      <td>39494.000000</td>\n",
       "      <td>39494.000000</td>\n",
       "      <td>39494.000000</td>\n",
       "      <td>39494.000000</td>\n",
       "    </tr>\n",
       "    <tr>\n",
       "      <th>mean</th>\n",
       "      <td>0.541976</td>\n",
       "      <td>0.465740</td>\n",
       "      <td>0.209233</td>\n",
       "      <td>0.251308</td>\n",
       "      <td>0.533512</td>\n",
       "      <td>0.294903</td>\n",
       "      <td>0.257863</td>\n",
       "      <td>0.323594</td>\n",
       "      <td>0.658478</td>\n",
       "      <td>0.495713</td>\n",
       "      <td>...</td>\n",
       "      <td>0.048868</td>\n",
       "      <td>0.047779</td>\n",
       "      <td>0.072138</td>\n",
       "      <td>0.075176</td>\n",
       "      <td>0.058566</td>\n",
       "      <td>0.061300</td>\n",
       "      <td>0.071808</td>\n",
       "      <td>0.070542</td>\n",
       "      <td>0.056591</td>\n",
       "      <td>0.068542</td>\n",
       "    </tr>\n",
       "    <tr>\n",
       "      <th>std</th>\n",
       "      <td>0.172124</td>\n",
       "      <td>0.161541</td>\n",
       "      <td>0.368065</td>\n",
       "      <td>0.161646</td>\n",
       "      <td>0.258959</td>\n",
       "      <td>0.123541</td>\n",
       "      <td>0.156497</td>\n",
       "      <td>0.154730</td>\n",
       "      <td>0.185493</td>\n",
       "      <td>0.201718</td>\n",
       "      <td>...</td>\n",
       "      <td>0.215595</td>\n",
       "      <td>0.213302</td>\n",
       "      <td>0.258719</td>\n",
       "      <td>0.263678</td>\n",
       "      <td>0.234813</td>\n",
       "      <td>0.239884</td>\n",
       "      <td>0.258174</td>\n",
       "      <td>0.256062</td>\n",
       "      <td>0.231062</td>\n",
       "      <td>0.252677</td>\n",
       "    </tr>\n",
       "    <tr>\n",
       "      <th>min</th>\n",
       "      <td>0.000000</td>\n",
       "      <td>0.000000</td>\n",
       "      <td>0.000000</td>\n",
       "      <td>0.000000</td>\n",
       "      <td>0.000000</td>\n",
       "      <td>0.000000</td>\n",
       "      <td>0.000000</td>\n",
       "      <td>0.000000</td>\n",
       "      <td>0.000000</td>\n",
       "      <td>0.000000</td>\n",
       "      <td>...</td>\n",
       "      <td>0.000000</td>\n",
       "      <td>0.000000</td>\n",
       "      <td>0.000000</td>\n",
       "      <td>0.000000</td>\n",
       "      <td>0.000000</td>\n",
       "      <td>0.000000</td>\n",
       "      <td>0.000000</td>\n",
       "      <td>0.000000</td>\n",
       "      <td>0.000000</td>\n",
       "      <td>0.000000</td>\n",
       "    </tr>\n",
       "    <tr>\n",
       "      <th>25%</th>\n",
       "      <td>0.411290</td>\n",
       "      <td>0.337963</td>\n",
       "      <td>0.000000</td>\n",
       "      <td>0.128440</td>\n",
       "      <td>0.344828</td>\n",
       "      <td>0.203704</td>\n",
       "      <td>0.132075</td>\n",
       "      <td>0.200000</td>\n",
       "      <td>0.550000</td>\n",
       "      <td>0.350000</td>\n",
       "      <td>...</td>\n",
       "      <td>0.000000</td>\n",
       "      <td>0.000000</td>\n",
       "      <td>0.000000</td>\n",
       "      <td>0.000000</td>\n",
       "      <td>0.000000</td>\n",
       "      <td>0.000000</td>\n",
       "      <td>0.000000</td>\n",
       "      <td>0.000000</td>\n",
       "      <td>0.000000</td>\n",
       "      <td>0.000000</td>\n",
       "    </tr>\n",
       "    <tr>\n",
       "      <th>50%</th>\n",
       "      <td>0.534946</td>\n",
       "      <td>0.458333</td>\n",
       "      <td>0.000000</td>\n",
       "      <td>0.229358</td>\n",
       "      <td>0.593103</td>\n",
       "      <td>0.277778</td>\n",
       "      <td>0.245283</td>\n",
       "      <td>0.309091</td>\n",
       "      <td>0.670000</td>\n",
       "      <td>0.500000</td>\n",
       "      <td>...</td>\n",
       "      <td>0.000000</td>\n",
       "      <td>0.000000</td>\n",
       "      <td>0.000000</td>\n",
       "      <td>0.000000</td>\n",
       "      <td>0.000000</td>\n",
       "      <td>0.000000</td>\n",
       "      <td>0.000000</td>\n",
       "      <td>0.000000</td>\n",
       "      <td>0.000000</td>\n",
       "      <td>0.000000</td>\n",
       "    </tr>\n",
       "    <tr>\n",
       "      <th>75%</th>\n",
       "      <td>0.674731</td>\n",
       "      <td>0.592593</td>\n",
       "      <td>0.187500</td>\n",
       "      <td>0.339450</td>\n",
       "      <td>0.737931</td>\n",
       "      <td>0.361111</td>\n",
       "      <td>0.339623</td>\n",
       "      <td>0.436364</td>\n",
       "      <td>0.790000</td>\n",
       "      <td>0.630000</td>\n",
       "      <td>...</td>\n",
       "      <td>0.000000</td>\n",
       "      <td>0.000000</td>\n",
       "      <td>0.000000</td>\n",
       "      <td>0.000000</td>\n",
       "      <td>0.000000</td>\n",
       "      <td>0.000000</td>\n",
       "      <td>0.000000</td>\n",
       "      <td>0.000000</td>\n",
       "      <td>0.000000</td>\n",
       "      <td>0.000000</td>\n",
       "    </tr>\n",
       "    <tr>\n",
       "      <th>max</th>\n",
       "      <td>1.000000</td>\n",
       "      <td>1.000000</td>\n",
       "      <td>1.000000</td>\n",
       "      <td>1.000000</td>\n",
       "      <td>1.000000</td>\n",
       "      <td>1.000000</td>\n",
       "      <td>1.000000</td>\n",
       "      <td>1.000000</td>\n",
       "      <td>1.000000</td>\n",
       "      <td>1.000000</td>\n",
       "      <td>...</td>\n",
       "      <td>1.000000</td>\n",
       "      <td>1.000000</td>\n",
       "      <td>1.000000</td>\n",
       "      <td>1.000000</td>\n",
       "      <td>1.000000</td>\n",
       "      <td>1.000000</td>\n",
       "      <td>1.000000</td>\n",
       "      <td>1.000000</td>\n",
       "      <td>1.000000</td>\n",
       "      <td>1.000000</td>\n",
       "    </tr>\n",
       "  </tbody>\n",
       "</table>\n",
       "<p>8 rows × 95 columns</p>\n",
       "</div>"
      ],
      "text/plain": [
       "            MinTemp       MaxTemp      Rainfall   Evaporation      Sunshine  \\\n",
       "count  39494.000000  39494.000000  39494.000000  39494.000000  39494.000000   \n",
       "mean       0.541976      0.465740      0.209233      0.251308      0.533512   \n",
       "std        0.172124      0.161541      0.368065      0.161646      0.258959   \n",
       "min        0.000000      0.000000      0.000000      0.000000      0.000000   \n",
       "25%        0.411290      0.337963      0.000000      0.128440      0.344828   \n",
       "50%        0.534946      0.458333      0.000000      0.229358      0.593103   \n",
       "75%        0.674731      0.592593      0.187500      0.339450      0.737931   \n",
       "max        1.000000      1.000000      1.000000      1.000000      1.000000   \n",
       "\n",
       "      WindGustSpeed  WindSpeed9am  WindSpeed3pm   Humidity9am   Humidity3pm  \\\n",
       "count  39494.000000  39494.000000  39494.000000  39494.000000  39494.000000   \n",
       "mean       0.294903      0.257863      0.323594      0.658478      0.495713   \n",
       "std        0.123541      0.156497      0.154730      0.185493      0.201718   \n",
       "min        0.000000      0.000000      0.000000      0.000000      0.000000   \n",
       "25%        0.203704      0.132075      0.200000      0.550000      0.350000   \n",
       "50%        0.277778      0.245283      0.309091      0.670000      0.500000   \n",
       "75%        0.361111      0.339623      0.436364      0.790000      0.630000   \n",
       "max        1.000000      1.000000      1.000000      1.000000      1.000000   \n",
       "\n",
       "       ...           NNW            NW             S            SE  \\\n",
       "count  ...  39494.000000  39494.000000  39494.000000  39494.000000   \n",
       "mean   ...      0.048868      0.047779      0.072138      0.075176   \n",
       "std    ...      0.215595      0.213302      0.258719      0.263678   \n",
       "min    ...      0.000000      0.000000      0.000000      0.000000   \n",
       "25%    ...      0.000000      0.000000      0.000000      0.000000   \n",
       "50%    ...      0.000000      0.000000      0.000000      0.000000   \n",
       "75%    ...      0.000000      0.000000      0.000000      0.000000   \n",
       "max    ...      1.000000      1.000000      1.000000      1.000000   \n",
       "\n",
       "                SSE           SSW            SW             W           WNW  \\\n",
       "count  39494.000000  39494.000000  39494.000000  39494.000000  39494.000000   \n",
       "mean       0.058566      0.061300      0.071808      0.070542      0.056591   \n",
       "std        0.234813      0.239884      0.258174      0.256062      0.231062   \n",
       "min        0.000000      0.000000      0.000000      0.000000      0.000000   \n",
       "25%        0.000000      0.000000      0.000000      0.000000      0.000000   \n",
       "50%        0.000000      0.000000      0.000000      0.000000      0.000000   \n",
       "75%        0.000000      0.000000      0.000000      0.000000      0.000000   \n",
       "max        1.000000      1.000000      1.000000      1.000000      1.000000   \n",
       "\n",
       "                WSW  \n",
       "count  39494.000000  \n",
       "mean       0.068542  \n",
       "std        0.252677  \n",
       "min        0.000000  \n",
       "25%        0.000000  \n",
       "50%        0.000000  \n",
       "75%        0.000000  \n",
       "max        1.000000  \n",
       "\n",
       "[8 rows x 95 columns]"
      ]
     },
     "execution_count": 182,
     "metadata": {},
     "output_type": "execute_result"
    }
   ],
   "source": [
    "X_train.describe()"
   ]
  },
  {
   "cell_type": "code",
   "execution_count": 183,
   "id": "0f32f54d",
   "metadata": {},
   "outputs": [
    {
     "data": {
      "text/html": [
       "<div>\n",
       "<style scoped>\n",
       "    .dataframe tbody tr th:only-of-type {\n",
       "        vertical-align: middle;\n",
       "    }\n",
       "\n",
       "    .dataframe tbody tr th {\n",
       "        vertical-align: top;\n",
       "    }\n",
       "\n",
       "    .dataframe thead tr th {\n",
       "        text-align: left;\n",
       "    }\n",
       "</style>\n",
       "<table border=\"1\" class=\"dataframe\">\n",
       "  <thead>\n",
       "    <tr>\n",
       "      <th></th>\n",
       "      <th>MinTemp</th>\n",
       "      <th>MaxTemp</th>\n",
       "      <th>Rainfall</th>\n",
       "      <th>Evaporation</th>\n",
       "      <th>Sunshine</th>\n",
       "      <th>WindGustSpeed</th>\n",
       "      <th>WindSpeed9am</th>\n",
       "      <th>WindSpeed3pm</th>\n",
       "      <th>Humidity9am</th>\n",
       "      <th>Humidity3pm</th>\n",
       "      <th>...</th>\n",
       "      <th>NNW</th>\n",
       "      <th>NW</th>\n",
       "      <th>S</th>\n",
       "      <th>SE</th>\n",
       "      <th>SSE</th>\n",
       "      <th>SSW</th>\n",
       "      <th>SW</th>\n",
       "      <th>W</th>\n",
       "      <th>WNW</th>\n",
       "      <th>WSW</th>\n",
       "    </tr>\n",
       "  </thead>\n",
       "  <tbody>\n",
       "    <tr>\n",
       "      <th>0</th>\n",
       "      <td>0.392473</td>\n",
       "      <td>0.453704</td>\n",
       "      <td>0.0</td>\n",
       "      <td>0.110092</td>\n",
       "      <td>0.758621</td>\n",
       "      <td>0.222222</td>\n",
       "      <td>0.132075</td>\n",
       "      <td>0.272727</td>\n",
       "      <td>0.71</td>\n",
       "      <td>0.49</td>\n",
       "      <td>...</td>\n",
       "      <td>0.0</td>\n",
       "      <td>0.0</td>\n",
       "      <td>0.0</td>\n",
       "      <td>0.0</td>\n",
       "      <td>0.0</td>\n",
       "      <td>0.0</td>\n",
       "      <td>0.0</td>\n",
       "      <td>0.0</td>\n",
       "      <td>0.0</td>\n",
       "      <td>1.0</td>\n",
       "    </tr>\n",
       "    <tr>\n",
       "      <th>1</th>\n",
       "      <td>0.706989</td>\n",
       "      <td>0.449074</td>\n",
       "      <td>0.0</td>\n",
       "      <td>0.449541</td>\n",
       "      <td>0.117241</td>\n",
       "      <td>0.240741</td>\n",
       "      <td>0.320755</td>\n",
       "      <td>0.363636</td>\n",
       "      <td>0.71</td>\n",
       "      <td>0.66</td>\n",
       "      <td>...</td>\n",
       "      <td>0.0</td>\n",
       "      <td>0.0</td>\n",
       "      <td>0.0</td>\n",
       "      <td>0.0</td>\n",
       "      <td>0.0</td>\n",
       "      <td>0.0</td>\n",
       "      <td>0.0</td>\n",
       "      <td>0.0</td>\n",
       "      <td>0.0</td>\n",
       "      <td>0.0</td>\n",
       "    </tr>\n",
       "    <tr>\n",
       "      <th>2</th>\n",
       "      <td>0.392473</td>\n",
       "      <td>0.196759</td>\n",
       "      <td>0.5</td>\n",
       "      <td>0.119266</td>\n",
       "      <td>0.400000</td>\n",
       "      <td>0.361111</td>\n",
       "      <td>0.490566</td>\n",
       "      <td>0.509091</td>\n",
       "      <td>0.89</td>\n",
       "      <td>0.64</td>\n",
       "      <td>...</td>\n",
       "      <td>0.0</td>\n",
       "      <td>0.0</td>\n",
       "      <td>0.0</td>\n",
       "      <td>0.0</td>\n",
       "      <td>0.0</td>\n",
       "      <td>0.0</td>\n",
       "      <td>0.0</td>\n",
       "      <td>0.0</td>\n",
       "      <td>0.0</td>\n",
       "      <td>1.0</td>\n",
       "    </tr>\n",
       "    <tr>\n",
       "      <th>3</th>\n",
       "      <td>0.336022</td>\n",
       "      <td>0.296296</td>\n",
       "      <td>0.0</td>\n",
       "      <td>0.128440</td>\n",
       "      <td>0.682759</td>\n",
       "      <td>0.138889</td>\n",
       "      <td>0.207547</td>\n",
       "      <td>0.236364</td>\n",
       "      <td>0.62</td>\n",
       "      <td>0.49</td>\n",
       "      <td>...</td>\n",
       "      <td>0.0</td>\n",
       "      <td>0.0</td>\n",
       "      <td>0.0</td>\n",
       "      <td>0.0</td>\n",
       "      <td>0.0</td>\n",
       "      <td>0.0</td>\n",
       "      <td>0.0</td>\n",
       "      <td>0.0</td>\n",
       "      <td>0.0</td>\n",
       "      <td>0.0</td>\n",
       "    </tr>\n",
       "    <tr>\n",
       "      <th>4</th>\n",
       "      <td>0.483871</td>\n",
       "      <td>0.409722</td>\n",
       "      <td>0.0</td>\n",
       "      <td>0.091743</td>\n",
       "      <td>0.406897</td>\n",
       "      <td>0.203704</td>\n",
       "      <td>0.094340</td>\n",
       "      <td>0.163636</td>\n",
       "      <td>0.93</td>\n",
       "      <td>0.63</td>\n",
       "      <td>...</td>\n",
       "      <td>0.0</td>\n",
       "      <td>0.0</td>\n",
       "      <td>0.0</td>\n",
       "      <td>0.0</td>\n",
       "      <td>0.0</td>\n",
       "      <td>0.0</td>\n",
       "      <td>1.0</td>\n",
       "      <td>0.0</td>\n",
       "      <td>0.0</td>\n",
       "      <td>0.0</td>\n",
       "    </tr>\n",
       "  </tbody>\n",
       "</table>\n",
       "<p>5 rows × 95 columns</p>\n",
       "</div>"
      ],
      "text/plain": [
       "    MinTemp   MaxTemp Rainfall Evaporation  Sunshine WindGustSpeed  \\\n",
       "0  0.392473  0.453704      0.0    0.110092  0.758621      0.222222   \n",
       "1  0.706989  0.449074      0.0    0.449541  0.117241      0.240741   \n",
       "2  0.392473  0.196759      0.5    0.119266  0.400000      0.361111   \n",
       "3  0.336022  0.296296      0.0    0.128440  0.682759      0.138889   \n",
       "4  0.483871  0.409722      0.0    0.091743  0.406897      0.203704   \n",
       "\n",
       "  WindSpeed9am WindSpeed3pm Humidity9am Humidity3pm  ...  NNW   NW    S   SE  \\\n",
       "0     0.132075     0.272727        0.71        0.49  ...  0.0  0.0  0.0  0.0   \n",
       "1     0.320755     0.363636        0.71        0.66  ...  0.0  0.0  0.0  0.0   \n",
       "2     0.490566     0.509091        0.89        0.64  ...  0.0  0.0  0.0  0.0   \n",
       "3     0.207547     0.236364        0.62        0.49  ...  0.0  0.0  0.0  0.0   \n",
       "4     0.094340     0.163636        0.93        0.63  ...  0.0  0.0  0.0  0.0   \n",
       "\n",
       "   SSE  SSW   SW    W  WNW  WSW  \n",
       "0  0.0  0.0  0.0  0.0  0.0  1.0  \n",
       "1  0.0  0.0  0.0  0.0  0.0  0.0  \n",
       "2  0.0  0.0  0.0  0.0  0.0  1.0  \n",
       "3  0.0  0.0  0.0  0.0  0.0  0.0  \n",
       "4  0.0  0.0  1.0  0.0  0.0  0.0  \n",
       "\n",
       "[5 rows x 95 columns]"
      ]
     },
     "execution_count": 183,
     "metadata": {},
     "output_type": "execute_result"
    }
   ],
   "source": [
    "X_train.head()"
   ]
  },
  {
   "cell_type": "markdown",
   "id": "d90c2636",
   "metadata": {},
   "source": [
    "# Logistic Regression"
   ]
  },
  {
   "cell_type": "code",
   "execution_count": 184,
   "id": "76391546",
   "metadata": {},
   "outputs": [
    {
     "data": {
      "text/html": [
       "<style>#sk-container-id-3 {color: black;}#sk-container-id-3 pre{padding: 0;}#sk-container-id-3 div.sk-toggleable {background-color: white;}#sk-container-id-3 label.sk-toggleable__label {cursor: pointer;display: block;width: 100%;margin-bottom: 0;padding: 0.3em;box-sizing: border-box;text-align: center;}#sk-container-id-3 label.sk-toggleable__label-arrow:before {content: \"▸\";float: left;margin-right: 0.25em;color: #696969;}#sk-container-id-3 label.sk-toggleable__label-arrow:hover:before {color: black;}#sk-container-id-3 div.sk-estimator:hover label.sk-toggleable__label-arrow:before {color: black;}#sk-container-id-3 div.sk-toggleable__content {max-height: 0;max-width: 0;overflow: hidden;text-align: left;background-color: #f0f8ff;}#sk-container-id-3 div.sk-toggleable__content pre {margin: 0.2em;color: black;border-radius: 0.25em;background-color: #f0f8ff;}#sk-container-id-3 input.sk-toggleable__control:checked~div.sk-toggleable__content {max-height: 200px;max-width: 100%;overflow: auto;}#sk-container-id-3 input.sk-toggleable__control:checked~label.sk-toggleable__label-arrow:before {content: \"▾\";}#sk-container-id-3 div.sk-estimator input.sk-toggleable__control:checked~label.sk-toggleable__label {background-color: #d4ebff;}#sk-container-id-3 div.sk-label input.sk-toggleable__control:checked~label.sk-toggleable__label {background-color: #d4ebff;}#sk-container-id-3 input.sk-hidden--visually {border: 0;clip: rect(1px 1px 1px 1px);clip: rect(1px, 1px, 1px, 1px);height: 1px;margin: -1px;overflow: hidden;padding: 0;position: absolute;width: 1px;}#sk-container-id-3 div.sk-estimator {font-family: monospace;background-color: #f0f8ff;border: 1px dotted black;border-radius: 0.25em;box-sizing: border-box;margin-bottom: 0.5em;}#sk-container-id-3 div.sk-estimator:hover {background-color: #d4ebff;}#sk-container-id-3 div.sk-parallel-item::after {content: \"\";width: 100%;border-bottom: 1px solid gray;flex-grow: 1;}#sk-container-id-3 div.sk-label:hover label.sk-toggleable__label {background-color: #d4ebff;}#sk-container-id-3 div.sk-serial::before {content: \"\";position: absolute;border-left: 1px solid gray;box-sizing: border-box;top: 0;bottom: 0;left: 50%;z-index: 0;}#sk-container-id-3 div.sk-serial {display: flex;flex-direction: column;align-items: center;background-color: white;padding-right: 0.2em;padding-left: 0.2em;position: relative;}#sk-container-id-3 div.sk-item {position: relative;z-index: 1;}#sk-container-id-3 div.sk-parallel {display: flex;align-items: stretch;justify-content: center;background-color: white;position: relative;}#sk-container-id-3 div.sk-item::before, #sk-container-id-3 div.sk-parallel-item::before {content: \"\";position: absolute;border-left: 1px solid gray;box-sizing: border-box;top: 0;bottom: 0;left: 50%;z-index: -1;}#sk-container-id-3 div.sk-parallel-item {display: flex;flex-direction: column;z-index: 1;position: relative;background-color: white;}#sk-container-id-3 div.sk-parallel-item:first-child::after {align-self: flex-end;width: 50%;}#sk-container-id-3 div.sk-parallel-item:last-child::after {align-self: flex-start;width: 50%;}#sk-container-id-3 div.sk-parallel-item:only-child::after {width: 0;}#sk-container-id-3 div.sk-dashed-wrapped {border: 1px dashed gray;margin: 0 0.4em 0.5em 0.4em;box-sizing: border-box;padding-bottom: 0.4em;background-color: white;}#sk-container-id-3 div.sk-label label {font-family: monospace;font-weight: bold;display: inline-block;line-height: 1.2em;}#sk-container-id-3 div.sk-label-container {text-align: center;}#sk-container-id-3 div.sk-container {/* jupyter's `normalize.less` sets `[hidden] { display: none; }` but bootstrap.min.css set `[hidden] { display: none !important; }` so we also need the `!important` here to be able to override the default hidden behavior on the sphinx rendered scikit-learn.org. See: https://github.com/scikit-learn/scikit-learn/issues/21755 */display: inline-block !important;position: relative;}#sk-container-id-3 div.sk-text-repr-fallback {display: none;}</style><div id=\"sk-container-id-3\" class=\"sk-top-container\"><div class=\"sk-text-repr-fallback\"><pre>LogisticRegression(random_state=0, solver=&#x27;liblinear&#x27;)</pre><b>In a Jupyter environment, please rerun this cell to show the HTML representation or trust the notebook. <br />On GitHub, the HTML representation is unable to render, please try loading this page with nbviewer.org.</b></div><div class=\"sk-container\" hidden><div class=\"sk-item\"><div class=\"sk-estimator sk-toggleable\"><input class=\"sk-toggleable__control sk-hidden--visually\" id=\"sk-estimator-id-3\" type=\"checkbox\" checked><label for=\"sk-estimator-id-3\" class=\"sk-toggleable__label sk-toggleable__label-arrow\">LogisticRegression</label><div class=\"sk-toggleable__content\"><pre>LogisticRegression(random_state=0, solver=&#x27;liblinear&#x27;)</pre></div></div></div></div></div>"
      ],
      "text/plain": [
       "LogisticRegression(random_state=0, solver='liblinear')"
      ]
     },
     "execution_count": 184,
     "metadata": {},
     "output_type": "execute_result"
    }
   ],
   "source": [
    "#modeling ke logistic Regression\n",
    "from sklearn.linear_model import LogisticRegression\n",
    "from sklearn.impute import SimpleImputer\n",
    "\n",
    "X_train.dropna(inplace=True)\n",
    "y_train.dropna(inplace=True)\n",
    "\n",
    "logreg = LogisticRegression(solver='liblinear', random_state=0)\n",
    "\n",
    "logreg.fit(X_train, y_train)"
   ]
  },
  {
   "cell_type": "code",
   "execution_count": 185,
   "id": "e2ebaed4",
   "metadata": {},
   "outputs": [
    {
     "data": {
      "text/plain": [
       "array(['No', 'No', 'No', ..., 'No', 'No', 'No'], dtype=object)"
      ]
     },
     "execution_count": 185,
     "metadata": {},
     "output_type": "execute_result"
    }
   ],
   "source": [
    "#prediksi output\n",
    "y_pred_test = logreg.predict(X_test)\n",
    "\n",
    "y_pred_test"
   ]
  },
  {
   "cell_type": "code",
   "execution_count": 186,
   "id": "ec3a6f48",
   "metadata": {},
   "outputs": [
    {
     "data": {
      "text/plain": [
       "array([0.98893887, 0.71192059, 0.60023536, ..., 0.75772695, 0.96575834,\n",
       "       0.91448385])"
      ]
     },
     "execution_count": 186,
     "metadata": {},
     "output_type": "execute_result"
    }
   ],
   "source": [
    "#probabilitas output 0 atau tidak hujan\n",
    "logreg.predict_proba(X_test)[:,0]"
   ]
  },
  {
   "cell_type": "code",
   "execution_count": 187,
   "id": "c64d50b6",
   "metadata": {},
   "outputs": [
    {
     "data": {
      "text/plain": [
       "array([0.01106113, 0.28807941, 0.39976464, ..., 0.24227305, 0.03424166,\n",
       "       0.08551615])"
      ]
     },
     "execution_count": 187,
     "metadata": {},
     "output_type": "execute_result"
    }
   ],
   "source": [
    "#probabilitas output 1 atau hujan\n",
    "logreg.predict_proba(X_test)[:,1]"
   ]
  },
  {
   "cell_type": "code",
   "execution_count": 189,
   "id": "38ed3a7c",
   "metadata": {},
   "outputs": [
    {
     "name": "stdout",
     "output_type": "stream",
     "text": [
      "Accuracy LR:  0.8566111308046792\n"
     ]
    }
   ],
   "source": [
    "#mengecek akurasi dari model logistic regression\n",
    "from sklearn.metrics import accuracy_score\n",
    "\n",
    "print('Accuracy LR: ', metrics.accuracy_score(y_test, y_pred_test))"
   ]
  },
  {
   "cell_type": "code",
   "execution_count": 196,
   "id": "8e0842f6",
   "metadata": {},
   "outputs": [
    {
     "name": "stdout",
     "output_type": "stream",
     "text": [
      "Confusion matrix\n",
      "\n",
      " [[12403   755]\n",
      " [ 1672  2096]]\n",
      "\n",
      "True Positives(TP) =  12403\n",
      "\n",
      "True Negatives(TN) =  2096\n",
      "\n",
      "False Positives(FP) =  755\n",
      "\n",
      "False Negatives(FN) =  1672\n"
     ]
    }
   ],
   "source": [
    "#membuat confusion matrix untuk melihat kemampuannya mendeteksi kebenaran\n",
    "from sklearn.metrics import confusion_matrix\n",
    "\n",
    "cm = confusion_matrix(y_test, y_pred_test)\n",
    "\n",
    "print('Confusion matrix\\n\\n', cm)\n",
    "\n",
    "print('\\nTrue Positives(TP) = ', cm[0,0])\n",
    "\n",
    "print('\\nTrue Negatives(TN) = ', cm[1,1])\n",
    "\n",
    "print('\\nFalse Positives(FP) = ', cm[0,1])\n",
    "\n",
    "print('\\nFalse Negatives(FN) = ', cm[1,0])"
   ]
  },
  {
   "cell_type": "code",
   "execution_count": 198,
   "id": "36c75e9c",
   "metadata": {},
   "outputs": [
    {
     "name": "stdout",
     "output_type": "stream",
     "text": [
      "              precision    recall  f1-score   support\n",
      "\n",
      "          No       0.88      0.94      0.91     13158\n",
      "         Yes       0.74      0.56      0.63      3768\n",
      "\n",
      "    accuracy                           0.86     16926\n",
      "   macro avg       0.81      0.75      0.77     16926\n",
      "weighted avg       0.85      0.86      0.85     16926\n",
      "\n"
     ]
    }
   ],
   "source": [
    "#untuk hasil evaluasi lebih detail, bisa menggunakan classification report\n",
    "from sklearn.metrics import classification_report\n",
    "\n",
    "print(classification_report(y_test, y_pred_test))"
   ]
  },
  {
   "cell_type": "markdown",
   "id": "e4a199f0",
   "metadata": {},
   "source": [
    "# SVM"
   ]
  },
  {
   "cell_type": "code",
   "execution_count": 192,
   "id": "9cb9aab9",
   "metadata": {},
   "outputs": [],
   "source": [
    "#library untuk model svm\n",
    "from sklearn import svm"
   ]
  },
  {
   "cell_type": "code",
   "execution_count": 195,
   "id": "758a8a62",
   "metadata": {},
   "outputs": [
    {
     "name": "stdout",
     "output_type": "stream",
     "text": [
      "Accuracy:  0.858442632636181\n"
     ]
    }
   ],
   "source": [
    "#membuat modeling SVM\n",
    "clf =  svm.SVC(kernel='linear')\n",
    "\n",
    "\n",
    "clf.fit(X_train, y_train)\n",
    "\n",
    "\n",
    "y_pred = clf.predict(X_test)\n",
    "\n",
    "#mengecek akurasinya\n",
    "from sklearn import metrics\n",
    "print('Accuracy: ', metrics.accuracy_score(y_test,y_pred))"
   ]
  },
  {
   "cell_type": "code",
   "execution_count": 197,
   "id": "24311989",
   "metadata": {},
   "outputs": [
    {
     "name": "stdout",
     "output_type": "stream",
     "text": [
      "Confusion matrix\n",
      "\n",
      " [[12510   648]\n",
      " [ 1748  2020]]\n",
      "\n",
      "True Positives(TP) =  12510\n",
      "\n",
      "True Negatives(TN) =  2020\n",
      "\n",
      "False Positives(FP) =  648\n",
      "\n",
      "False Negatives(FN) =  1748\n"
     ]
    }
   ],
   "source": [
    "#membuat confusion matrix juga\n",
    "from sklearn.metrics import confusion_matrix\n",
    "\n",
    "cm = confusion_matrix(y_test, y_pred)\n",
    "\n",
    "print('Confusion matrix\\n\\n', cm)\n",
    "\n",
    "print('\\nTrue Positives(TP) = ', cm[0,0])\n",
    "\n",
    "print('\\nTrue Negatives(TN) = ', cm[1,1])\n",
    "\n",
    "print('\\nFalse Positives(FP) = ', cm[0,1])\n",
    "\n",
    "print('\\nFalse Negatives(FN) = ', cm[1,0])"
   ]
  },
  {
   "cell_type": "code",
   "execution_count": 200,
   "id": "cbb968a3",
   "metadata": {},
   "outputs": [
    {
     "name": "stdout",
     "output_type": "stream",
     "text": [
      "              precision    recall  f1-score   support\n",
      "\n",
      "          No       0.88      0.95      0.91     13158\n",
      "         Yes       0.76      0.54      0.63      3768\n",
      "\n",
      "    accuracy                           0.86     16926\n",
      "   macro avg       0.82      0.74      0.77     16926\n",
      "weighted avg       0.85      0.86      0.85     16926\n",
      "\n"
     ]
    }
   ],
   "source": [
    "#membuat classification report juga\n",
    "from sklearn.metrics import classification_report\n",
    "\n",
    "print(classification_report(y_test, y_pred))"
   ]
  },
  {
   "cell_type": "code",
   "execution_count": null,
   "id": "b44be184",
   "metadata": {},
   "outputs": [],
   "source": [
    "# hasil akurasi model Logistic regression adalah 0.8566111308046792, sedangkan hasil akurasi model SVM adalah 0.858442632636181\n",
    "# meskipun berbeda sedikit, sekitar 0,18, tetapi dapat disimpulkan bahwa model SVM lebih cocok untuk data ini, yaitu memprediksi terjadinya hujan\n",
    "# lalu, ada confusion matrix yang menunjukkan seberapa mampunya model memprediksi secara benar, artinya simulasi sama dengan kehidupan nyata\n",
    "# kedua confusion matrix sama-sama mampu lebih baik mendeteksi true positive, atau benar terdeteksi hujan dan sesuai terjadi hujan"
   ]
  }
 ],
 "metadata": {
  "kernelspec": {
   "display_name": "Python 3 (ipykernel)",
   "language": "python",
   "name": "python3"
  },
  "language_info": {
   "codemirror_mode": {
    "name": "ipython",
    "version": 3
   },
   "file_extension": ".py",
   "mimetype": "text/x-python",
   "name": "python",
   "nbconvert_exporter": "python",
   "pygments_lexer": "ipython3",
   "version": "3.11.4"
  }
 },
 "nbformat": 4,
 "nbformat_minor": 5
}
